{
 "cells": [
  {
   "cell_type": "code",
   "execution_count": 28,
   "id": "bf5fee93",
   "metadata": {},
   "outputs": [
    {
     "name": "stdout",
     "output_type": "stream",
     "text": [
      "()\n",
      "<class 'tuple'>\n"
     ]
    }
   ],
   "source": [
    "## Creating a tuple\n",
    "empty_tuple = ()\n",
    "print(empty_tuple)\n",
    "print(type(empty_tuple))"
   ]
  },
  {
   "cell_type": "code",
   "execution_count": 29,
   "id": "65e2e9ec",
   "metadata": {},
   "outputs": [
    {
     "name": "stdout",
     "output_type": "stream",
     "text": [
      "<class 'list'>\n",
      "<class 'tuple'>\n"
     ]
    }
   ],
   "source": [
    "lst = list()\n",
    "print(type(lst))\n",
    "tpl = tuple()\n",
    "print(type(tpl))"
   ]
  },
  {
   "cell_type": "code",
   "execution_count": 30,
   "id": "f1e930fe",
   "metadata": {},
   "outputs": [
    {
     "data": {
      "text/plain": [
       "(1, 2, 3, 4, 5)"
      ]
     },
     "execution_count": 30,
     "metadata": {},
     "output_type": "execute_result"
    }
   ],
   "source": [
    "numbers = tuple([1, 2, 3, 4, 5])\n",
    "numbers"
   ]
  },
  {
   "cell_type": "code",
   "execution_count": 31,
   "id": "48e1db62",
   "metadata": {},
   "outputs": [
    {
     "data": {
      "text/plain": [
       "[1, 2, 3, 4, 5]"
      ]
     },
     "execution_count": 31,
     "metadata": {},
     "output_type": "execute_result"
    }
   ],
   "source": [
    "list((1, 2, 3, 4, 5))"
   ]
  },
  {
   "cell_type": "code",
   "execution_count": 32,
   "id": "9ae9dd79",
   "metadata": {},
   "outputs": [
    {
     "name": "stdout",
     "output_type": "stream",
     "text": [
      "(1, 'Hello', 3.14, True)\n"
     ]
    }
   ],
   "source": [
    "mixed_tuple = (1, \"Hello\", 3.14, True)\n",
    "print(mixed_tuple)"
   ]
  },
  {
   "cell_type": "code",
   "execution_count": 33,
   "id": "1fde9806",
   "metadata": {},
   "outputs": [
    {
     "name": "stdout",
     "output_type": "stream",
     "text": [
      "1\n",
      "2\n",
      "6\n",
      "5\n"
     ]
    }
   ],
   "source": [
    "## Accessing tuple elements\n",
    "numbers = (1, 2, 3, 4, 5, 6)\n",
    "print(numbers[0])  # First element\n",
    "print(numbers[1])  # Second element\n",
    "print(numbers[-1])  # Last element\n",
    "print(numbers[-2])  # Second to last element"
   ]
  },
  {
   "cell_type": "code",
   "execution_count": 34,
   "id": "8439e54c",
   "metadata": {},
   "outputs": [
    {
     "name": "stdout",
     "output_type": "stream",
     "text": [
      "(2, 3, 4)\n",
      "(1, 2, 3)\n",
      "(4, 5, 6)\n",
      "(4, 5, 6)\n",
      "(1, 3, 5)\n"
     ]
    }
   ],
   "source": [
    "## Slicing tuples\n",
    "print(numbers[1:4])  # Elements from index 1 to 3\n",
    "print(numbers[:3])   # First three elements\n",
    "print(numbers[3:])   # Elements from index 3 to the end\n",
    "print(numbers[-3:])  # Last three elements\n",
    "print(numbers[::2])  # Every second element"
   ]
  },
  {
   "cell_type": "code",
   "execution_count": 35,
   "id": "9d682890",
   "metadata": {},
   "outputs": [
    {
     "name": "stdout",
     "output_type": "stream",
     "text": [
      "6\n"
     ]
    }
   ],
   "source": [
    "## Tuple operations\n",
    "# Length of the tuple\n",
    "print(len(numbers))  "
   ]
  },
  {
   "cell_type": "code",
   "execution_count": 36,
   "id": "46ed1fea",
   "metadata": {},
   "outputs": [
    {
     "name": "stdout",
     "output_type": "stream",
     "text": [
      "True\n"
     ]
    }
   ],
   "source": [
    "print(3 in numbers)  # Check if 3 is in the tuple"
   ]
  },
  {
   "cell_type": "code",
   "execution_count": 37,
   "id": "5287dfac",
   "metadata": {},
   "outputs": [
    {
     "name": "stdout",
     "output_type": "stream",
     "text": [
      "(1, 2, 3, 4, 5, 6, 7, 8)\n"
     ]
    }
   ],
   "source": [
    "print(numbers + (7, 8))  # Concatenation"
   ]
  },
  {
   "cell_type": "code",
   "execution_count": 38,
   "id": "0ff862bb",
   "metadata": {},
   "outputs": [
    {
     "name": "stdout",
     "output_type": "stream",
     "text": [
      "(1, 2, 3, 4, 5, 6, 1, 2, 3, 4, 5, 6)\n"
     ]
    }
   ],
   "source": [
    "print(numbers * 2)  # Repetition"
   ]
  },
  {
   "cell_type": "code",
   "execution_count": 39,
   "id": "2377fc24",
   "metadata": {},
   "outputs": [
    {
     "name": "stdout",
     "output_type": "stream",
     "text": [
      "(1, 2, 3, 4, 5, 6, 1, 2, 3, 4, 5, 6)\n"
     ]
    }
   ],
   "source": [
    "print(2 * numbers)  # Repetition with a different multiplier"
   ]
  },
  {
   "cell_type": "code",
   "execution_count": 40,
   "id": "ffb1fed4",
   "metadata": {},
   "outputs": [
    {
     "name": "stdout",
     "output_type": "stream",
     "text": [
      "Error: 'tuple' object does not support item assignment\n"
     ]
    }
   ],
   "source": [
    "## Immatable nature of tuples\n",
    "try:\n",
    "    numbers[0] = 10  # Attempt to change the first element\n",
    "except TypeError as e:\n",
    "    print(f\"Error: {e}\")\n",
    "\n",
    "\n",
    "# Tuples are immutable, so we cannot change their elements"
   ]
  },
  {
   "cell_type": "code",
   "execution_count": 41,
   "id": "61497b65",
   "metadata": {},
   "outputs": [
    {
     "name": "stdout",
     "output_type": "stream",
     "text": [
      "(1, 'Hello', 3.14)\n"
     ]
    }
   ],
   "source": [
    "## Packing and unpacking tuples\n",
    "## Packing a tuple\n",
    "packed_tuple = (1, \"Hello\", 3.14)\n",
    "print(packed_tuple)"
   ]
  },
  {
   "cell_type": "code",
   "execution_count": 42,
   "id": "54efcb49",
   "metadata": {},
   "outputs": [
    {
     "name": "stdout",
     "output_type": "stream",
     "text": [
      "1\n",
      "Hello\n",
      "3.14\n"
     ]
    }
   ],
   "source": [
    "## Unpacking a tuple\n",
    "a, b, c = packed_tuple\n",
    "print(a)  # 1\n",
    "print(b)  # Hello\n",
    "print(c)  # 3.14"
   ]
  },
  {
   "cell_type": "code",
   "execution_count": 43,
   "id": "cae3e77a",
   "metadata": {},
   "outputs": [
    {
     "name": "stdout",
     "output_type": "stream",
     "text": [
      "1\n",
      "[2, 3, 4, 5]\n",
      "6\n"
     ]
    }
   ],
   "source": [
    "## Unpacking with *\n",
    "numbers = (1, 2, 3, 4, 5, 6)\n",
    "first, *middle, last = numbers\n",
    "print(first)   \n",
    "print(middle)  \n",
    "print(last)    "
   ]
  },
  {
   "cell_type": "code",
   "execution_count": 45,
   "id": "45643b75",
   "metadata": {},
   "outputs": [
    {
     "data": {
      "text/plain": [
       "[1, 2, 3]"
      ]
     },
     "execution_count": 45,
     "metadata": {},
     "output_type": "execute_result"
    }
   ],
   "source": [
    "## Nested tuples\n",
    "## Nested List\n",
    "lst=[[1, 2, 3, 4], [5, 6, 7, 8, 9], [1, 'Hello', 3.14, True]]\n",
    "lst[0][0:3]"
   ]
  },
  {
   "cell_type": "code",
   "execution_count": 44,
   "id": "9e7afe4e",
   "metadata": {},
   "outputs": [
    {
     "data": {
      "text/plain": [
       "(1, 'Hello', 3.14)"
      ]
     },
     "execution_count": 44,
     "metadata": {},
     "output_type": "execute_result"
    }
   ],
   "source": [
    "lst=[[1, 2, 3, 4], [5, 6, 7, 8, 9], (1, 'Hello', 3.14, True)]\n",
    "lst[2][0:3]  "
   ]
  },
  {
   "cell_type": "code",
   "execution_count": 47,
   "id": "65543c21",
   "metadata": {},
   "outputs": [
    {
     "name": "stdout",
     "output_type": "stream",
     "text": [
      "(1, 2, 3)\n",
      "b\n"
     ]
    }
   ],
   "source": [
    "nested_tuple = ((1,2,3), ('a', 'b', 'c'), (True, False))\n",
    "print(nested_tuple[0])  # Accessing the first tuple\n",
    "print(nested_tuple[1][1])  # Accessing 'b' from the second tuple"
   ]
  },
  {
   "cell_type": "code",
   "execution_count": 48,
   "id": "84ebe31f",
   "metadata": {},
   "outputs": [
    {
     "name": "stdout",
     "output_type": "stream",
     "text": [
      "1 2 3 \n",
      "a b c \n",
      "True False \n"
     ]
    }
   ],
   "source": [
    "## iterating over nested tuples\n",
    "for sub_tuple in nested_tuple:\n",
    "    for item in sub_tuple:\n",
    "        print(item, end=' ')\n",
    "    print()  # New line after each sub-tuple"
   ]
  }
 ],
 "metadata": {
  "kernelspec": {
   "display_name": "ML",
   "language": "python",
   "name": "python3"
  },
  "language_info": {
   "codemirror_mode": {
    "name": "ipython",
    "version": 3
   },
   "file_extension": ".py",
   "mimetype": "text/x-python",
   "name": "python",
   "nbconvert_exporter": "python",
   "pygments_lexer": "ipython3",
   "version": "3.10.13"
  }
 },
 "nbformat": 4,
 "nbformat_minor": 5
}
