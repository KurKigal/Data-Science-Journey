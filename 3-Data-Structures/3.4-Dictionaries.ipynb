{
 "cells": [
  {
   "cell_type": "code",
   "execution_count": 76,
   "id": "c8901b25",
   "metadata": {},
   "outputs": [
    {
     "name": "stdout",
     "output_type": "stream",
     "text": [
      "<class 'dict'>\n"
     ]
    }
   ],
   "source": [
    "## Creating Dictionaries\n",
    "\n",
    "empty_dict = {}\n",
    "print(type(empty_dict))"
   ]
  },
  {
   "cell_type": "code",
   "execution_count": 77,
   "id": "1ab3b942",
   "metadata": {},
   "outputs": [
    {
     "data": {
      "text/plain": [
       "{}"
      ]
     },
     "execution_count": 77,
     "metadata": {},
     "output_type": "execute_result"
    }
   ],
   "source": [
    "empty_dict = dict()\n",
    "empty_dict"
   ]
  },
  {
   "cell_type": "code",
   "execution_count": 78,
   "id": "79a8092b",
   "metadata": {},
   "outputs": [
    {
     "name": "stdout",
     "output_type": "stream",
     "text": [
      "{'name': 'Emirhan', 'age': 21, 'courses': ['Math', 'Science'], 'is_enrolled': True}\n",
      "<class 'dict'>\n"
     ]
    }
   ],
   "source": [
    "student = {\n",
    "    \"name\": \"Emirhan\",\n",
    "    \"age\": 21,\n",
    "    \"courses\": [\"Math\", \"Science\"],\n",
    "    \"is_enrolled\": True\n",
    "}\n",
    "print(student)\n",
    "print(type(student))"
   ]
  },
  {
   "cell_type": "code",
   "execution_count": 79,
   "id": "2b0cfb9f",
   "metadata": {},
   "outputs": [
    {
     "name": "stdout",
     "output_type": "stream",
     "text": [
      "Emirhan\n",
      "21\n",
      "['Math', 'Science']\n",
      "True\n"
     ]
    }
   ],
   "source": [
    "## Accessing Dictionary Elements\n",
    "print(student[\"name\"])\n",
    "print(student[\"age\"])\n",
    "print(student[\"courses\"])\n",
    "print(student[\"is_enrolled\"])"
   ]
  },
  {
   "cell_type": "code",
   "execution_count": 80,
   "id": "079485fa",
   "metadata": {},
   "outputs": [
    {
     "name": "stdout",
     "output_type": "stream",
     "text": [
      "Emirhan\n",
      "21\n",
      "['Math', 'Science']\n",
      "True\n",
      "Not Found\n"
     ]
    }
   ],
   "source": [
    "## Accessing using get()\n",
    "print(student.get(\"name\"))\n",
    "print(student.get(\"age\"))\n",
    "print(student.get(\"courses\"))\n",
    "print(student.get(\"is_enrolled\"))\n",
    "print(student.get(\"address\", \"Not Found\"))  # Default value if key doesn't exist"
   ]
  },
  {
   "cell_type": "code",
   "execution_count": 81,
   "id": "7515b13d",
   "metadata": {},
   "outputs": [
    {
     "name": "stdout",
     "output_type": "stream",
     "text": [
      "{'name': 'Emirhan', 'age': 21, 'courses': ['Math', 'Science'], 'is_enrolled': True}\n",
      "{'name': 'Emirhan', 'age': 22, 'courses': ['Math', 'Science'], 'is_enrolled': True}\n",
      "{'name': 'Emirhan', 'age': 22, 'courses': ['Math', 'Science'], 'is_enrolled': True, 'country': 'Turkey'}\n"
     ]
    }
   ],
   "source": [
    "## Modifying Dictionary Elements\n",
    "print(student)\n",
    "student[\"age\"] = 22\n",
    "print(student)\n",
    "student[\"country\"] = \"Turkey\"\n",
    "print(student)"
   ]
  },
  {
   "cell_type": "code",
   "execution_count": 82,
   "id": "2a607b83",
   "metadata": {},
   "outputs": [
    {
     "name": "stdout",
     "output_type": "stream",
     "text": [
      "{'name': 'Emirhan', 'age': 22, 'courses': ['Math', 'Science'], 'is_enrolled': True, 'country': 'Turkey'}\n",
      "{'name': 'Emirhan', 'age': 22, 'courses': ['Math', 'Science'], 'country': 'Turkey'}\n"
     ]
    }
   ],
   "source": [
    "## Deleting Dictionary Elements\n",
    "print(student)\n",
    "del student[\"is_enrolled\"]\n",
    "print(student)"
   ]
  },
  {
   "cell_type": "code",
   "execution_count": 83,
   "id": "cf4376a0",
   "metadata": {},
   "outputs": [
    {
     "name": "stdout",
     "output_type": "stream",
     "text": [
      "{'name': 'Emirhan', 'age': 22, 'courses': ['Math', 'Science']}\n"
     ]
    }
   ],
   "source": [
    "student.pop(\"country\", None)  # Using pop with default value\n",
    "print(student)"
   ]
  },
  {
   "cell_type": "code",
   "execution_count": 84,
   "id": "04c95fc6",
   "metadata": {},
   "outputs": [
    {
     "name": "stdout",
     "output_type": "stream",
     "text": [
      "dict_keys(['name', 'age', 'courses'])\n"
     ]
    }
   ],
   "source": [
    "## Dictionary Methods\n",
    "print(student.keys())  # Get all keys"
   ]
  },
  {
   "cell_type": "code",
   "execution_count": 85,
   "id": "e1f79a9c",
   "metadata": {},
   "outputs": [
    {
     "name": "stdout",
     "output_type": "stream",
     "text": [
      "dict_values(['Emirhan', 22, ['Math', 'Science']])\n"
     ]
    }
   ],
   "source": [
    "print(student.values())  # Get all values"
   ]
  },
  {
   "cell_type": "code",
   "execution_count": 86,
   "id": "d95447c4",
   "metadata": {},
   "outputs": [
    {
     "name": "stdout",
     "output_type": "stream",
     "text": [
      "dict_items([('name', 'Emirhan'), ('age', 22), ('courses', ['Math', 'Science'])])\n"
     ]
    }
   ],
   "source": [
    "print(student.items())  # Get all key-value pairs"
   ]
  },
  {
   "cell_type": "code",
   "execution_count": 87,
   "id": "2b10adff",
   "metadata": {},
   "outputs": [
    {
     "name": "stdout",
     "output_type": "stream",
     "text": [
      "True\n"
     ]
    }
   ],
   "source": [
    "print(\"name\" in student)  # Check if key exists"
   ]
  },
  {
   "cell_type": "code",
   "execution_count": 88,
   "id": "97fbd5f3",
   "metadata": {},
   "outputs": [
    {
     "name": "stdout",
     "output_type": "stream",
     "text": [
      "False\n"
     ]
    }
   ],
   "source": [
    "print(\"address\" in student)  # Check if key exists"
   ]
  },
  {
   "cell_type": "code",
   "execution_count": 89,
   "id": "b058dba4",
   "metadata": {},
   "outputs": [
    {
     "name": "stdout",
     "output_type": "stream",
     "text": [
      "3\n"
     ]
    }
   ],
   "source": [
    "print(len(student))  # Get number of key-value pairs"
   ]
  },
  {
   "cell_type": "code",
   "execution_count": 90,
   "id": "c5b66c7e",
   "metadata": {},
   "outputs": [
    {
     "name": "stdout",
     "output_type": "stream",
     "text": [
      "{'name': 'Emirhan', 'age': 22, 'courses': ['Math', 'Science']}\n",
      "{'name': 'Ali', 'age': 22, 'courses': ['Math', 'Science']}\n"
     ]
    }
   ],
   "source": [
    "## Shallow Copying\n",
    "new_student = student.copy()\n",
    "print(new_student)\n",
    "new_student[\"name\"] = \"Ali\"\n",
    "print(new_student)"
   ]
  },
  {
   "cell_type": "code",
   "execution_count": 91,
   "id": "6c54f6c1",
   "metadata": {},
   "outputs": [
    {
     "name": "stdout",
     "output_type": "stream",
     "text": [
      "{'name': 'Emirhan', 'age': 22, 'courses': ['Math', 'Science']}\n"
     ]
    }
   ],
   "source": [
    "print(student)  # Original dictionary remains unchanged"
   ]
  },
  {
   "cell_type": "code",
   "execution_count": 92,
   "id": "3cd53a0a",
   "metadata": {},
   "outputs": [
    {
     "name": "stdout",
     "output_type": "stream",
     "text": [
      "False\n",
      "False\n"
     ]
    }
   ],
   "source": [
    "print(student is new_student)  # Check if they are the same object\n",
    "print(student == new_student)  # Check if they have the same content"
   ]
  },
  {
   "cell_type": "code",
   "execution_count": 93,
   "id": "4ddd87f3",
   "metadata": {},
   "outputs": [
    {
     "name": "stdout",
     "output_type": "stream",
     "text": [
      "name: Emirhan\n",
      "age: 22\n",
      "courses: ['Math', 'Science']\n"
     ]
    }
   ],
   "source": [
    "## Iterating Over a Dictionary\n",
    "for key in student:\n",
    "    print(f\"{key}: {student[key]}\")"
   ]
  },
  {
   "cell_type": "code",
   "execution_count": 94,
   "id": "c763e4e2",
   "metadata": {},
   "outputs": [
    {
     "name": "stdout",
     "output_type": "stream",
     "text": [
      "name: Emirhan\n",
      "age: 22\n",
      "courses: ['Math', 'Science']\n"
     ]
    }
   ],
   "source": [
    "for key, value in student.items():\n",
    "    print(f\"{key}: {value}\")"
   ]
  },
  {
   "cell_type": "code",
   "execution_count": 95,
   "id": "5b62dbd1",
   "metadata": {},
   "outputs": [
    {
     "name": "stdout",
     "output_type": "stream",
     "text": [
      "{'student1': {'name': 'Emirhan', 'age': 21}, 'student2': {'name': 'Ali', 'age': 22}}\n"
     ]
    }
   ],
   "source": [
    "## Nested Dictionaries\n",
    "nested_dict = {\n",
    "    \"student1\": {\n",
    "        \"name\": \"Emirhan\",\n",
    "        \"age\": 21\n",
    "    },\n",
    "    \"student2\": {\n",
    "        \"name\": \"Ali\",\n",
    "        \"age\": 22\n",
    "    }\n",
    "}\n",
    "print(nested_dict)"
   ]
  },
  {
   "cell_type": "code",
   "execution_count": 96,
   "id": "f77cf875",
   "metadata": {},
   "outputs": [
    {
     "name": "stdout",
     "output_type": "stream",
     "text": [
      "Emirhan\n",
      "22\n"
     ]
    }
   ],
   "source": [
    "print(nested_dict[\"student1\"][\"name\"])  # Accessing nested dictionary\n",
    "print(nested_dict[\"student2\"][\"age\"])"
   ]
  },
  {
   "cell_type": "code",
   "execution_count": null,
   "id": "0b409043",
   "metadata": {},
   "outputs": [
    {
     "name": "stdout",
     "output_type": "stream",
     "text": [
      "Emirhan\n",
      "Not Found\n",
      "Not Found\n"
     ]
    }
   ],
   "source": [
    "# Accessing nested dictionary\n",
    "print(nested_dict.get(\"student1\", {}).get(\"name\", \"Not Found\"))  # Safe access with get\n",
    "print(nested_dict.get(\"student3\", {}).get(\"name\", \"Not Found\"))  # Safe access with get for non-existent key\n",
    "print(nested_dict.get(\"student3\", {}).get(\"age\", \"Not Found\"))  # Safe access with get for non-existent key"
   ]
  },
  {
   "cell_type": "code",
   "execution_count": 100,
   "id": "30e17192",
   "metadata": {},
   "outputs": [
    {
     "name": "stdout",
     "output_type": "stream",
     "text": [
      "student1: {'name': 'Emirhan', 'age': 21}\n",
      "  name: Emirhan\n",
      "  age: 21\n",
      "student2: {'name': 'Ali', 'age': 22}\n",
      "  name: Ali\n",
      "  age: 22\n"
     ]
    }
   ],
   "source": [
    "## Iterating over nested dictionaries\n",
    "for student_key, student_info in nested_dict.items():\n",
    "    print(f\"{student_key}: {student_info}\")\n",
    "    for key, value in student_info.items():\n",
    "        print(f\"  {key}: {value}\")"
   ]
  },
  {
   "cell_type": "code",
   "execution_count": 101,
   "id": "1d819f1f",
   "metadata": {},
   "outputs": [
    {
     "name": "stdout",
     "output_type": "stream",
     "text": [
      "{1: 1, 2: 4, 3: 9, 4: 16, 5: 25}\n",
      "{1: 1, 2: 8, 3: 27, 4: 64, 5: 125}\n"
     ]
    }
   ],
   "source": [
    "## Dictionary Comphrehensions\n",
    "squares = {x: x**2 for x in range(1, 6)}\n",
    "print(squares)\n",
    "cubes = {x: x**3 for x in range(1, 6)}\n",
    "print(cubes)"
   ]
  },
  {
   "cell_type": "code",
   "execution_count": 102,
   "id": "5c14877c",
   "metadata": {},
   "outputs": [
    {
     "name": "stdout",
     "output_type": "stream",
     "text": [
      "{0: 0, 2: 4, 4: 16, 6: 36, 8: 64}\n"
     ]
    }
   ],
   "source": [
    "## Condition dictionary comprehension\n",
    "evens = {x:x**2 for x in range(10) if x%2==0}\n",
    "print(evens)"
   ]
  },
  {
   "cell_type": "code",
   "execution_count": 103,
   "id": "d26f27e0",
   "metadata": {},
   "outputs": [
    {
     "name": "stdout",
     "output_type": "stream",
     "text": [
      "{'a': 1, 'b': 3, 'c': 4}\n"
     ]
    }
   ],
   "source": [
    "## Merge 2 dictionaries into one\n",
    "dict1 = {'a': 1, 'b': 2}\n",
    "dict2 = {'b': 3, 'c': 4}\n",
    "merged_dict={**dict1, **dict2}\n",
    "print(merged_dict)"
   ]
  }
 ],
 "metadata": {
  "kernelspec": {
   "display_name": "ML",
   "language": "python",
   "name": "python3"
  },
  "language_info": {
   "codemirror_mode": {
    "name": "ipython",
    "version": 3
   },
   "file_extension": ".py",
   "mimetype": "text/x-python",
   "name": "python",
   "nbconvert_exporter": "python",
   "pygments_lexer": "ipython3",
   "version": "3.10.13"
  }
 },
 "nbformat": 4,
 "nbformat_minor": 5
}
