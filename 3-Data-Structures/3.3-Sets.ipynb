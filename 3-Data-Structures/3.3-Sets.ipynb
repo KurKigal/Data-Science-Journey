{
 "cells": [
  {
   "cell_type": "code",
   "execution_count": 19,
   "id": "666d32c1",
   "metadata": {},
   "outputs": [
    {
     "name": "stdout",
     "output_type": "stream",
     "text": [
      "{1, 2, 3, 4, 5}\n",
      "<class 'set'>\n"
     ]
    }
   ],
   "source": [
    "## Create a set\n",
    "my_set = {1,2,3,4,5}\n",
    "print(my_set)\n",
    "print(type(my_set))"
   ]
  },
  {
   "cell_type": "code",
   "execution_count": 20,
   "id": "58b6839d",
   "metadata": {},
   "outputs": [
    {
     "name": "stdout",
     "output_type": "stream",
     "text": [
      "<class 'set'>\n"
     ]
    }
   ],
   "source": [
    "my_empty_set = set()\n",
    "print(type(my_empty_set))"
   ]
  },
  {
   "cell_type": "code",
   "execution_count": 21,
   "id": "b1089024",
   "metadata": {},
   "outputs": [
    {
     "name": "stdout",
     "output_type": "stream",
     "text": [
      "{1, 2, 3, 4, 5}\n"
     ]
    }
   ],
   "source": [
    "my_empty_set = set([1, 2, 3, 4, 5])\n",
    "print(my_empty_set)"
   ]
  },
  {
   "cell_type": "code",
   "execution_count": 22,
   "id": "6a940fae",
   "metadata": {},
   "outputs": [
    {
     "name": "stdout",
     "output_type": "stream",
     "text": [
      "True\n",
      "False\n",
      "False\n"
     ]
    }
   ],
   "source": [
    "## Basics Set Operations\n",
    "my_set = {1, 2, 3, 4, 5}\n",
    "print(1 in my_set)  # Check if an element is in the set\n",
    "print(6 in my_set)  # Check if an element is not in the set\n",
    "print(1 not in my_set)  # Check if an element is not in the set"
   ]
  },
  {
   "cell_type": "code",
   "execution_count": 23,
   "id": "5c3fa750",
   "metadata": {},
   "outputs": [
    {
     "name": "stdout",
     "output_type": "stream",
     "text": [
      "{1, 2, 3, 4, 5, 6}\n"
     ]
    }
   ],
   "source": [
    "my_set.add(6)  # Add an element to the set\n",
    "print(my_set)"
   ]
  },
  {
   "cell_type": "code",
   "execution_count": 24,
   "id": "8294cfd4",
   "metadata": {},
   "outputs": [
    {
     "name": "stdout",
     "output_type": "stream",
     "text": [
      "{1, 2, 3, 4, 5}\n"
     ]
    }
   ],
   "source": [
    "my_set.remove(6)  # Remove an element from the set\n",
    "print(my_set)"
   ]
  },
  {
   "cell_type": "code",
   "execution_count": 25,
   "id": "15dc79e5",
   "metadata": {},
   "outputs": [
    {
     "name": "stdout",
     "output_type": "stream",
     "text": [
      "{1, 2, 3, 4}\n"
     ]
    }
   ],
   "source": [
    "my_set.discard(6)  # Remove an element from the set, does not raise an error if not found\n",
    "my_set.discard(5)  # Remove an element that exists\n",
    "print(my_set)"
   ]
  },
  {
   "cell_type": "code",
   "execution_count": 26,
   "id": "6ac5e85e",
   "metadata": {},
   "outputs": [
    {
     "name": "stdout",
     "output_type": "stream",
     "text": [
      "set()\n"
     ]
    }
   ],
   "source": [
    "my_set.clear()  # Clear all elements from the set\n",
    "print(my_set)  # Should be an empty set\n"
   ]
  },
  {
   "cell_type": "code",
   "execution_count": 27,
   "id": "4940adb5",
   "metadata": {},
   "outputs": [
    {
     "name": "stdout",
     "output_type": "stream",
     "text": [
      "False\n"
     ]
    }
   ],
   "source": [
    "my_set = {1, 2, 3, 4, 5}\n",
    "print(1 not in my_set)  # Check if an element is not in the set"
   ]
  },
  {
   "cell_type": "code",
   "execution_count": 28,
   "id": "a4980fbe",
   "metadata": {},
   "outputs": [
    {
     "name": "stdout",
     "output_type": "stream",
     "text": [
      "{1, 2, 3, 4, 5, 6}\n"
     ]
    }
   ],
   "source": [
    "my_set.add(6)  # Add an element to the set\n",
    "print(my_set)"
   ]
  },
  {
   "cell_type": "code",
   "execution_count": 29,
   "id": "c92fc08f",
   "metadata": {},
   "outputs": [
    {
     "name": "stdout",
     "output_type": "stream",
     "text": [
      "{1, 2, 3, 4, 5}\n"
     ]
    }
   ],
   "source": [
    "my_set.remove(6)  # Remove an element from the set\n",
    "print(my_set)"
   ]
  },
  {
   "cell_type": "code",
   "execution_count": 30,
   "id": "fb2a9237",
   "metadata": {},
   "outputs": [
    {
     "name": "stdout",
     "output_type": "stream",
     "text": [
      "{1, 2, 3, 4}\n"
     ]
    }
   ],
   "source": [
    "my_set.discard(6)  # Remove an element from the set, does not raise an error if not found\n",
    "my_set.discard(5)  # Remove an element that exists\n",
    "print(my_set)\n"
   ]
  },
  {
   "cell_type": "code",
   "execution_count": 31,
   "id": "f72284f4",
   "metadata": {},
   "outputs": [
    {
     "name": "stdout",
     "output_type": "stream",
     "text": [
      "set()\n"
     ]
    }
   ],
   "source": [
    "my_set.clear()  # Clear all elements from the set\n",
    "print(my_set)  # Should be an empty set\n"
   ]
  },
  {
   "cell_type": "code",
   "execution_count": 32,
   "id": "6135c3f5",
   "metadata": {},
   "outputs": [],
   "source": [
    "my_set = {1, 2, 3, 4, 5}"
   ]
  },
  {
   "cell_type": "code",
   "execution_count": 33,
   "id": "0335a2b6",
   "metadata": {},
   "outputs": [
    {
     "name": "stdout",
     "output_type": "stream",
     "text": [
      "{1, 2, 3, 4, 5, 6, 7, 8}\n"
     ]
    }
   ],
   "source": [
    "## Mathematical Set Operations\n",
    "my_set = {1, 2, 3, 4, 5}\n",
    "my_set2 = {4, 5, 6, 7, 8}\n",
    "\n",
    "print(my_set.union(my_set2))  # Union of two sets\n"
   ]
  },
  {
   "cell_type": "code",
   "execution_count": 34,
   "id": "15fb567e",
   "metadata": {},
   "outputs": [
    {
     "name": "stdout",
     "output_type": "stream",
     "text": [
      "{1, 2, 3, 4, 5, 6, 7, 8}\n"
     ]
    }
   ],
   "source": [
    "print(my_set | my_set2)  # Union using the '|' operator"
   ]
  },
  {
   "cell_type": "code",
   "execution_count": 35,
   "id": "58bfa46f",
   "metadata": {},
   "outputs": [
    {
     "name": "stdout",
     "output_type": "stream",
     "text": [
      "{4, 5}\n"
     ]
    }
   ],
   "source": [
    "print(my_set.intersection(my_set2))  # Intersection of two sets"
   ]
  },
  {
   "cell_type": "code",
   "execution_count": 36,
   "id": "9587c39f",
   "metadata": {},
   "outputs": [
    {
     "name": "stdout",
     "output_type": "stream",
     "text": [
      "{4, 5}\n"
     ]
    }
   ],
   "source": [
    "print(my_set & my_set2)  # Intersection using the '&' operator"
   ]
  },
  {
   "cell_type": "code",
   "execution_count": 37,
   "id": "d309476f",
   "metadata": {},
   "outputs": [
    {
     "name": "stdout",
     "output_type": "stream",
     "text": [
      "{1, 2, 3}\n"
     ]
    }
   ],
   "source": [
    "print(my_set.difference(my_set2))  # Difference of two sets"
   ]
  },
  {
   "cell_type": "code",
   "execution_count": 38,
   "id": "8a49d28f",
   "metadata": {},
   "outputs": [
    {
     "name": "stdout",
     "output_type": "stream",
     "text": [
      "{1, 2, 3}\n"
     ]
    }
   ],
   "source": [
    "print(my_set - my_set2)  # Difference using the '-' operator"
   ]
  },
  {
   "cell_type": "code",
   "execution_count": 39,
   "id": "7d4967b0",
   "metadata": {},
   "outputs": [
    {
     "name": "stdout",
     "output_type": "stream",
     "text": [
      "{1, 2, 3, 6, 7, 8}\n"
     ]
    }
   ],
   "source": [
    "print(my_set.symmetric_difference(my_set2))  # Symmetric difference of two sets"
   ]
  },
  {
   "cell_type": "code",
   "execution_count": 40,
   "id": "0da135b4",
   "metadata": {},
   "outputs": [
    {
     "name": "stdout",
     "output_type": "stream",
     "text": [
      "{1, 2, 3, 6, 7, 8}\n"
     ]
    }
   ],
   "source": [
    "print(my_set ^ my_set2)  # Symmetric difference using the '^' operator"
   ]
  },
  {
   "cell_type": "code",
   "execution_count": 41,
   "id": "9ab80a69",
   "metadata": {},
   "outputs": [
    {
     "name": "stdout",
     "output_type": "stream",
     "text": [
      "False\n"
     ]
    }
   ],
   "source": [
    "print(my_set.issubset(my_set2))  # Check if my_set is a subset of my_set2"
   ]
  },
  {
   "cell_type": "code",
   "execution_count": 42,
   "id": "343c4888",
   "metadata": {},
   "outputs": [
    {
     "name": "stdout",
     "output_type": "stream",
     "text": [
      "False\n"
     ]
    }
   ],
   "source": [
    "print(my_set.issuperset(my_set2))  # Check if my_set is a superset of my_set2"
   ]
  },
  {
   "cell_type": "code",
   "execution_count": 43,
   "id": "3cfc18e7",
   "metadata": {},
   "outputs": [
    {
     "name": "stdout",
     "output_type": "stream",
     "text": [
      "False\n"
     ]
    }
   ],
   "source": [
    "print(my_set.isdisjoint(my_set2))  # Check if two sets are disjoint (no common elements)"
   ]
  },
  {
   "cell_type": "code",
   "execution_count": 44,
   "id": "f15ca863",
   "metadata": {},
   "outputs": [
    {
     "name": "stdout",
     "output_type": "stream",
     "text": [
      "True\n"
     ]
    }
   ],
   "source": [
    "print(my_set.isdisjoint({9, 10}))  # Check disjoint with a set that has no common elements"
   ]
  },
  {
   "cell_type": "code",
   "execution_count": 45,
   "id": "77d30ed2",
   "metadata": {},
   "outputs": [
    {
     "name": "stdout",
     "output_type": "stream",
     "text": [
      "False\n"
     ]
    }
   ],
   "source": [
    "print(my_set.isdisjoint({3, 4}))  # Check disjoint with a set that has common elements"
   ]
  },
  {
   "cell_type": "code",
   "execution_count": 46,
   "id": "d038ce32",
   "metadata": {},
   "outputs": [
    {
     "name": "stdout",
     "output_type": "stream",
     "text": [
      "{'world', 'hello'}\n"
     ]
    }
   ],
   "source": [
    "## Counting Unique words in a string\n",
    "text = \"hello world hello\"\n",
    "words = text.split()  # Split the text into words\n",
    "unique_words = set(words)  # Create a set of unique words\n",
    "print(unique_words)  # Output: {'hello', 'world'}"
   ]
  }
 ],
 "metadata": {
  "kernelspec": {
   "display_name": "ML",
   "language": "python",
   "name": "python3"
  },
  "language_info": {
   "codemirror_mode": {
    "name": "ipython",
    "version": 3
   },
   "file_extension": ".py",
   "mimetype": "text/x-python",
   "name": "python",
   "nbconvert_exporter": "python",
   "pygments_lexer": "ipython3",
   "version": "3.10.13"
  }
 },
 "nbformat": 4,
 "nbformat_minor": 5
}
