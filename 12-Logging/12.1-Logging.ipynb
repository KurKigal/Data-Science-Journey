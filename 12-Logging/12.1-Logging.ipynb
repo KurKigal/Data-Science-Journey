{
 "cells": [
  {
   "cell_type": "markdown",
   "id": "b700f6c2",
   "metadata": {},
   "source": [
    "## Logging\n",
    "\n",
    "Logging is the process of recording messages that describe the execution of a program. These messages can be used for debugging, monitoring, and auditing purposes. \n",
    "The logging module in Python provides a flexible framework for emitting log messages from Python programs. It is used by many libraries and frameworks, and it is a good practice to use it in your own code as well."
   ]
  },
  {
   "cell_type": "code",
   "execution_count": 1,
   "id": "d80100f9",
   "metadata": {},
   "outputs": [],
   "source": [
    "import logging"
   ]
  },
  {
   "cell_type": "code",
   "execution_count": 2,
   "id": "592b8fbf",
   "metadata": {},
   "outputs": [
    {
     "name": "stderr",
     "output_type": "stream",
     "text": [
      "DEBUG:root:This is a debug message\n",
      "INFO:root:This is an info message\n",
      "WARNING:root:This is a warning message\n",
      "ERROR:root:This is an error message\n",
      "CRITICAL:root:This is a critical message\n"
     ]
    }
   ],
   "source": [
    "## Configure the basic logging settings\n",
    "\n",
    "logging.basicConfig(level=logging.DEBUG) ## Can be set to DEBUG, INFO, WARNING, ERROR, or CRITICAL\n",
    "\n",
    "## Log messages with different severity levels\n",
    "\n",
    "logging.debug(\"This is a debug message\")\n",
    "logging.info(\"This is an info message\")\n",
    "logging.warning(\"This is a warning message\")\n",
    "logging.error(\"This is an error message\")\n",
    "logging.critical(\"This is a critical message\")\n"
   ]
  },
  {
   "cell_type": "markdown",
   "id": "b81e65db",
   "metadata": {},
   "source": [
    "## Log Levels\n",
    "Logging levels indicate the severity of events that are logged. The logging module defines the following levels, in increasing order of severity:\n",
    " - DEBUG: Detailed information, typically of interest only when diagnosing problems.\n",
    " - INFO: Confirmation that things are working as expected.\n",
    " - WARNING: An indication that something unexpected happened, or indicative of some problem in the near future (e.g. ‘disk space low’). The software is still functioning as expected.\n",
    " - ERROR: Due to a more serious problem, the software has not been able to perform some function.\n",
    " - CRITICAL: A very serious error, indicating that the program itself may be unable to continue running."
   ]
  },
  {
   "cell_type": "code",
   "execution_count": null,
   "id": "d423d7bd",
   "metadata": {},
   "outputs": [],
   "source": [
    "## Configure Logging\n",
    "\n",
    "logging.basicConfig(\n",
    "    filename='app.log', ## Log messages will be saved to this file\n",
    "    filemode='w',\n",
    "    level=logging.DEBUG,\n",
    "    format='%(asctime)s - %(name)s - %(levelname)s - %(message)s',\n",
    "    datefmt='%Y-%m-%d %H:%M:%S',\n",
    "    force=True ## force=True to override any previous configuration\n",
    "    )\n",
    "\n",
    "\n",
    "logging.debug(\"This is a debug message\")\n",
    "logging.info(\"This is an info message\")\n",
    "logging.warning(\"This is a warning message\")\n",
    "logging.error(\"This is an error message\")\n",
    "logging.critical(\"This is a critical message\")\n"
   ]
  },
  {
   "cell_type": "code",
   "execution_count": null,
   "id": "1588f5b2",
   "metadata": {},
   "outputs": [],
   "source": [
    "## Log messages will be saved to the app.log file\n",
    "\n",
    "logging.debug(\"This is a debug message\")\n",
    "logging.info(\"This is an info message\")\n",
    "logging.warning(\"This is a warning message\")\n",
    "logging.error(\"This is an error message\")\n",
    "logging.critical(\"This is a critical message\")"
   ]
  }
 ],
 "metadata": {
  "kernelspec": {
   "display_name": "ml_env",
   "language": "python",
   "name": "python3"
  },
  "language_info": {
   "codemirror_mode": {
    "name": "ipython",
    "version": 3
   },
   "file_extension": ".py",
   "mimetype": "text/x-python",
   "name": "python",
   "nbconvert_exporter": "python",
   "pygments_lexer": "ipython3",
   "version": "3.10.18"
  }
 },
 "nbformat": 4,
 "nbformat_minor": 5
}
