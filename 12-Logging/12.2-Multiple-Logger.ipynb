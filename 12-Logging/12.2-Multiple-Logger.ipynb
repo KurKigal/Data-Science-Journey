{
 "cells": [
  {
   "cell_type": "code",
   "execution_count": 1,
   "id": "ed5afd41",
   "metadata": {},
   "outputs": [],
   "source": [
    "import logging"
   ]
  },
  {
   "cell_type": "code",
   "execution_count": 4,
   "id": "3f48dae7",
   "metadata": {},
   "outputs": [],
   "source": [
    "## Create a logger for module1\n",
    "\n",
    "logger1 = logging.getLogger(\"module1\")\n",
    "logger1.setLevel(logging.DEBUG)\n",
    "\n",
    "## Create a logger for module2\n",
    "logger2 = logging.getLogger(\"module2\")\n",
    "logger2.setLevel(logging.WARNING)\n",
    "\n",
    "## Configure logging settings\n",
    "logging.basicConfig(\n",
    "    level=logging.DEBUG,\n",
    "    format='%(asctime)s - %(name)s - %(levelname)s - %(message)s',\n",
    "    datefmt='%Y-%m-%d %H:%M:%S',\n",
    ")"
   ]
  },
  {
   "cell_type": "code",
   "execution_count": 5,
   "id": "090d7802",
   "metadata": {},
   "outputs": [
    {
     "name": "stderr",
     "output_type": "stream",
     "text": [
      "2025-08-16 00:34:05 - module1 - DEBUG - This is a debug message from module1\n",
      "2025-08-16 00:34:05 - module2 - WARNING - This is a warning message from module2\n",
      "2025-08-16 00:34:05 - module2 - ERROR - This is an error message\n"
     ]
    }
   ],
   "source": [
    "## Log message with different loggers\n",
    "\n",
    "logger1.debug('This is a debug message from module1')\n",
    "logger2.warning('This is a warning message from module2')\n",
    "logger2.error('This is an error message')"
   ]
  },
  {
   "cell_type": "markdown",
   "id": "e74e4c21",
   "metadata": {},
   "source": [
    "This example demonstrates how to use Python's `logging` module to create and configure multiple loggers.\n",
    "\n",
    "- A logger named `module1` is created with a log level of `DEBUG`.\n",
    "- A logger named `module2` is created with a log level of `WARNING`.\n",
    "\n",
    "The `basicConfig` function is used to set a common log format that includes the timestamp, logger name, log level, and the log message.\n",
    "\n",
    "Finally:\n",
    "- A `DEBUG` message is logged using `module1`.\n",
    "- A `WARNING` and an `ERROR` message are logged using `module2`.\n",
    "\n",
    "This setup allows for customized log management across different modules."
   ]
  }
 ],
 "metadata": {
  "kernelspec": {
   "display_name": "ml_env",
   "language": "python",
   "name": "python3"
  },
  "language_info": {
   "codemirror_mode": {
    "name": "ipython",
    "version": 3
   },
   "file_extension": ".py",
   "mimetype": "text/x-python",
   "name": "python",
   "nbconvert_exporter": "python",
   "pygments_lexer": "ipython3",
   "version": "3.10.18"
  }
 },
 "nbformat": 4,
 "nbformat_minor": 5
}
