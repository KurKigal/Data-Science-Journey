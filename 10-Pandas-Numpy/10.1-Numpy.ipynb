{
 "cells": [
  {
   "cell_type": "code",
   "execution_count": null,
   "id": "86eef566",
   "metadata": {},
   "outputs": [
    {
     "name": "stdout",
     "output_type": "stream",
     "text": [
      "1D Array:\n",
      "[1 2 3 4 5]\n",
      "<class 'numpy.ndarray'>\n",
      "(5,)\n"
     ]
    }
   ],
   "source": [
    "## Importing NumPy\n",
    "import numpy as np\n",
    "\n",
    "## Create array using numpy\n",
    "## Create a 1D array\n",
    "array_1d = np.array([1, 2, 3, 4, 5])\n",
    "print(\"1D Array:\")\n",
    "print(array_1d)\n",
    "print(type(array_1d))\n",
    "print(array_1d.shape)"
   ]
  },
  {
   "cell_type": "code",
   "execution_count": 34,
   "id": "ad370431",
   "metadata": {},
   "outputs": [
    {
     "data": {
      "text/plain": [
       "array([[1, 2, 3, 4, 5]])"
      ]
     },
     "execution_count": 34,
     "metadata": {},
     "output_type": "execute_result"
    }
   ],
   "source": [
    "arr1 = np.array([1, 2, 3, 4, 5])\n",
    "arr1.reshape(1,5) #1 row, 5 columns"
   ]
  },
  {
   "cell_type": "code",
   "execution_count": 35,
   "id": "9baa9d9c",
   "metadata": {},
   "outputs": [
    {
     "data": {
      "text/plain": [
       "(1, 5)"
      ]
     },
     "execution_count": 35,
     "metadata": {},
     "output_type": "execute_result"
    }
   ],
   "source": [
    "arr1 = np.array([[1, 2, 3, 4, 5]])\n",
    "arr1.shape"
   ]
  },
  {
   "cell_type": "code",
   "execution_count": 36,
   "id": "02aab6fb",
   "metadata": {},
   "outputs": [
    {
     "name": "stdout",
     "output_type": "stream",
     "text": [
      "\n",
      "2D Array:\n",
      "[[1 2 3]\n",
      " [4 5 6]]\n",
      "<class 'numpy.ndarray'>\n",
      "(2, 3)\n"
     ]
    }
   ],
   "source": [
    "## Create a 2D array\n",
    "array_2d = np.array([[1, 2, 3], [4, 5, 6]])\n",
    "print(\"\\n2D Array:\")\n",
    "print(array_2d)\n",
    "print(type(array_2d))\n",
    "print(array_2d.shape)"
   ]
  },
  {
   "cell_type": "code",
   "execution_count": 37,
   "id": "a09b5653",
   "metadata": {},
   "outputs": [
    {
     "data": {
      "text/plain": [
       "array([0, 2, 4, 6, 8])"
      ]
     },
     "execution_count": 37,
     "metadata": {},
     "output_type": "execute_result"
    }
   ],
   "source": [
    "np.arange(0, 10, 2) #start, stop, step"
   ]
  },
  {
   "cell_type": "code",
   "execution_count": 38,
   "id": "750e0430",
   "metadata": {},
   "outputs": [
    {
     "data": {
      "text/plain": [
       "array([[0],\n",
       "       [2],\n",
       "       [4],\n",
       "       [6],\n",
       "       [8]])"
      ]
     },
     "execution_count": 38,
     "metadata": {},
     "output_type": "execute_result"
    }
   ],
   "source": [
    "np.arange(0, 10, 2).reshape(5,1)"
   ]
  },
  {
   "cell_type": "code",
   "execution_count": 39,
   "id": "606d85c9",
   "metadata": {},
   "outputs": [
    {
     "data": {
      "text/plain": [
       "array([[1., 1., 1.],\n",
       "       [1., 1., 1.],\n",
       "       [1., 1., 1.]])"
      ]
     },
     "execution_count": 39,
     "metadata": {},
     "output_type": "execute_result"
    }
   ],
   "source": [
    "np.ones((3, 3)) # Create a 3x3 array filled with ones"
   ]
  },
  {
   "cell_type": "code",
   "execution_count": 40,
   "id": "68c042ce",
   "metadata": {},
   "outputs": [
    {
     "data": {
      "text/plain": [
       "array([[1., 0., 0.],\n",
       "       [0., 1., 0.],\n",
       "       [0., 0., 1.]])"
      ]
     },
     "execution_count": 40,
     "metadata": {},
     "output_type": "execute_result"
    }
   ],
   "source": [
    "## Identity matrix\n",
    "np.eye(3) # Create a 3x3 identity matrix"
   ]
  },
  {
   "cell_type": "code",
   "execution_count": 41,
   "id": "4112df5c",
   "metadata": {},
   "outputs": [
    {
     "name": "stdout",
     "output_type": "stream",
     "text": [
      "Array: \n",
      " [[1 2 3]\n",
      " [4 5 6]]\n",
      "Shape of the array: (2, 3)\n",
      "Number of dimensions: 2\n",
      "Data type of the array: int64\n",
      "Size of the array: 6\n",
      "Item size in bytes: 8\n"
     ]
    }
   ],
   "source": [
    "arr = np.array([[1, 2, 3], [4, 5, 6]])\n",
    "\n",
    "print('Array: \\n', arr)\n",
    "print('Shape of the array:', arr.shape)\n",
    "print('Number of dimensions:', arr.ndim)\n",
    "print('Data type of the array:', arr.dtype)\n",
    "print('Size of the array:', arr.size)\n",
    "print('Item size in bytes:', arr.itemsize)"
   ]
  },
  {
   "cell_type": "code",
   "execution_count": 43,
   "id": "f97ac2db",
   "metadata": {},
   "outputs": [
    {
     "name": "stdout",
     "output_type": "stream",
     "text": [
      "Element-wise addition: [11 22 33 44 55]\n",
      "Element-wise subtraction: [ 9 18 27 36 45]\n",
      "Element-wise multiplication: [ 10  40  90 160 250]\n",
      "Element-wise division: [10. 10. 10. 10. 10.]\n"
     ]
    }
   ],
   "source": [
    "### Numpy Vectorized Operations\n",
    "arr1 = np.array([1, 2, 3, 4, 5])\n",
    "arr2 = np.array([10, 20, 30, 40, 50])\n",
    "\n",
    "### Element Wise Addition\n",
    "arr_sum = arr1 + arr2\n",
    "print(\"Element-wise addition:\", arr_sum)\n",
    "\n",
    "### Element Wise Subtraction\n",
    "print(\"Element-wise subtraction:\", arr2 - arr1)\n",
    "\n",
    "### Element Wise Multiplication\n",
    "print(\"Element-wise multiplication:\", arr1 * arr2)\n",
    "\n",
    "### Element Wise Division\n",
    "print(\"Element-wise division:\", arr2 / arr1)\n"
   ]
  },
  {
   "cell_type": "code",
   "execution_count": 49,
   "id": "c11de06f",
   "metadata": {},
   "outputs": [
    {
     "name": "stdout",
     "output_type": "stream",
     "text": [
      "Square root of arr: [1.41421356 1.73205081 2.         2.23606798 2.44948974]\n",
      "Exponential of arr: [  7.3890561   20.08553692  54.59815003 148.4131591  403.42879349]\n",
      "Sine of arr: [ 0.90929743  0.14112001 -0.7568025  -0.95892427 -0.2794155 ]\n",
      "Natural logarithm of arr: [0.69314718 1.09861229 1.38629436 1.60943791 1.79175947]\n"
     ]
    }
   ],
   "source": [
    "### Universal Functions\n",
    "arr = np.array([2, 3, 4, 5, 6])\n",
    "\n",
    "### Square Root\n",
    "sqrt_arr = np.sqrt(arr)\n",
    "print(\"Square root of arr:\", sqrt_arr)\n",
    "\n",
    "### Exponential\n",
    "exp_arr = np.exp(arr)\n",
    "print(\"Exponential of arr:\", exp_arr)\n",
    "\n",
    "### Sine\n",
    "sin_arr = np.sin(arr)\n",
    "print(\"Sine of arr:\", sin_arr)  \n",
    "\n",
    "### Natural Logarithm\n",
    "log_arr = np.log(arr)\n",
    "print(\"Natural logarithm of arr:\", log_arr)"
   ]
  },
  {
   "cell_type": "code",
   "execution_count": 50,
   "id": "3fb9e2ca",
   "metadata": {},
   "outputs": [
    {
     "name": "stdout",
     "output_type": "stream",
     "text": [
      "First three elements: [10 20 30]\n",
      "Last two elements: [40 50]\n",
      "Element at index 2: 30\n",
      "Elements from index 1 to 3: [20 30 40]\n",
      "Elements greater than 30: [40 50]\n",
      "Original array:\n",
      " [[1 2 3]\n",
      " [4 5 6]\n",
      " [7 8 9]]\n",
      "Reshaped array:\n",
      " [[1 2 3 4 5 6 7 8 9]]\n"
     ]
    }
   ],
   "source": [
    "### Array Slicing and Indexing\n",
    "arr = np.array([10, 20, 30, 40, 50])\n",
    "\n",
    "### Slicing\n",
    "print(\"First three elements:\", arr[:3])\n",
    "print(\"Last two elements:\", arr[-2:])\n",
    "\n",
    "### Indexing\n",
    "print(\"Element at index 2:\", arr[2])\n",
    "print(\"Elements from index 1 to 3:\", arr[1:4])\n",
    "\n",
    "### Boolean Indexing\n",
    "bool_index = arr > 30\n",
    "print(\"Elements greater than 30:\", arr[bool_index])\n",
    "\n",
    "### Reshaping Arrays\n",
    "arr = np.array([[1, 2, 3], [4, 5, 6], [7, 8, 9]])\n",
    "print(\"Original array:\\n\", arr)\n",
    "reshaped_arr = arr.reshape(1, 9)  # Reshape to 1 row and 9 columns\n",
    "print(\"Reshaped array:\\n\", reshaped_arr)"
   ]
  },
  {
   "cell_type": "code",
   "execution_count": 52,
   "id": "b530ba0d",
   "metadata": {},
   "outputs": [
    {
     "name": "stdout",
     "output_type": "stream",
     "text": [
      "Original array:\n",
      " [[1 2 3]\n",
      " [4 5 6]\n",
      " [7 8 9]]\n",
      "Modified array:\n",
      " [[10  2  3]\n",
      " [ 4  5  6]\n",
      " [ 7  8  9]]\n",
      "Array after modifying second row:\n",
      " [[ 10   2   3]\n",
      " [100 100 100]\n",
      " [100 100 100]]\n"
     ]
    }
   ],
   "source": [
    "### Modifying Array Elements\n",
    "arr = np.array([[1, 2, 3], [4, 5, 6], [7, 8, 9]])\n",
    "print(\"Original array:\\n\", arr)\n",
    "arr[0, 0] = 10  # Change the first element\n",
    "print(\"Modified array:\\n\", arr)\n",
    "arr[1:]= 100  # Change all elements in the second row to 100\n",
    "print(\"Array after modifying second row:\\n\", arr)"
   ]
  },
  {
   "cell_type": "code",
   "execution_count": 53,
   "id": "cc109cdf",
   "metadata": {},
   "outputs": [
    {
     "name": "stdout",
     "output_type": "stream",
     "text": [
      "Mean: 3.0\n",
      "Standard Deviation: 1.4142135623730951\n",
      "Normalized Data: [-1.41421356 -0.70710678  0.          0.70710678  1.41421356]\n"
     ]
    }
   ],
   "source": [
    "### Statistical Concepts - Normalization to have a mean of 0 and standard deviation of 1\n",
    "data = np.array([1, 2, 3, 4, 5])\n",
    "\n",
    "## Calculate mean and standard deviation\n",
    "mean = np.mean(data)\n",
    "std_dev = np.std(data)\n",
    "print(\"Mean:\", mean)\n",
    "print(\"Standard Deviation:\", std_dev)\n",
    "\n",
    "## Normalize the data\n",
    "normalized_data = (data - mean) / std_dev\n",
    "print(\"Normalized Data:\", normalized_data)\n"
   ]
  },
  {
   "cell_type": "code",
   "execution_count": 54,
   "id": "a7ea1c8b",
   "metadata": {},
   "outputs": [
    {
     "name": "stdout",
     "output_type": "stream",
     "text": [
      "Mean: 5.5\n",
      "Median: 5.5\n",
      "Standard Deviation: 2.8722813232690143\n",
      "Variance: 8.25\n"
     ]
    }
   ],
   "source": [
    "data = np.array([1, 2, 3, 4, 5, 6, 7, 8, 9, 10])\n",
    "\n",
    "## Mean\n",
    "mean = np.mean(data)\n",
    "print(\"Mean:\", mean)\n",
    "\n",
    "## Median\n",
    "median = np.median(data)\n",
    "print(\"Median:\", median)\n",
    "\n",
    "## Standard Deviation\n",
    "std_dev = np.std(data)\n",
    "print(\"Standard Deviation:\", std_dev)\n",
    "\n",
    "## Variance\n",
    "variance = np.var(data)\n",
    "print(\"Variance:\", variance)\n"
   ]
  },
  {
   "cell_type": "code",
   "execution_count": 55,
   "id": "47b35a2a",
   "metadata": {},
   "outputs": [
    {
     "data": {
      "text/plain": [
       "array([False, False, False, False, False,  True,  True,  True,  True,\n",
       "        True])"
      ]
     },
     "execution_count": 55,
     "metadata": {},
     "output_type": "execute_result"
    }
   ],
   "source": [
    "## Logical Operations\n",
    "data = np.array([1, 2, 3, 4, 5, 6, 7, 8, 9, 10])\n",
    "\n",
    "data>5"
   ]
  },
  {
   "cell_type": "code",
   "execution_count": 56,
   "id": "e8dfcb35",
   "metadata": {},
   "outputs": [
    {
     "data": {
      "text/plain": [
       "array([ 6,  7,  8,  9, 10])"
      ]
     },
     "execution_count": 56,
     "metadata": {},
     "output_type": "execute_result"
    }
   ],
   "source": [
    "data[data > 5]  # Get elements greater than 5"
   ]
  },
  {
   "cell_type": "code",
   "execution_count": 57,
   "id": "11e2f89a",
   "metadata": {},
   "outputs": [
    {
     "data": {
      "text/plain": [
       "array([1, 2, 3, 4])"
      ]
     },
     "execution_count": 57,
     "metadata": {},
     "output_type": "execute_result"
    }
   ],
   "source": [
    "data[data < 5]  # Get elements less than 5"
   ]
  },
  {
   "cell_type": "code",
   "execution_count": 60,
   "id": "a9c4c43e",
   "metadata": {},
   "outputs": [
    {
     "data": {
      "text/plain": [
       "array([6, 7])"
      ]
     },
     "execution_count": 60,
     "metadata": {},
     "output_type": "execute_result"
    }
   ],
   "source": [
    "data[(data > 5) & (data < 8)]  # Get elements greater than 5 and less than 8"
   ]
  },
  {
   "cell_type": "code",
   "execution_count": 61,
   "id": "5e2ae300",
   "metadata": {},
   "outputs": [
    {
     "data": {
      "text/plain": [
       "array([ 1,  2,  3,  4,  5,  6,  7,  8,  9, 10])"
      ]
     },
     "execution_count": 61,
     "metadata": {},
     "output_type": "execute_result"
    }
   ],
   "source": [
    "data[(data > 5) | (data < 8)] # Get elements greater than 5 or less than 8"
   ]
  }
 ],
 "metadata": {
  "kernelspec": {
   "display_name": "ML",
   "language": "python",
   "name": "python3"
  },
  "language_info": {
   "codemirror_mode": {
    "name": "ipython",
    "version": 3
   },
   "file_extension": ".py",
   "mimetype": "text/x-python",
   "name": "python",
   "nbconvert_exporter": "python",
   "pygments_lexer": "ipython3",
   "version": "3.10.13"
  }
 },
 "nbformat": 4,
 "nbformat_minor": 5
}
