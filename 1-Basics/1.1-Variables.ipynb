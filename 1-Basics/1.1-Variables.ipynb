{
 "cells": [
  {
   "cell_type": "code",
   "execution_count": null,
   "id": "99e85241",
   "metadata": {},
   "outputs": [],
   "source": [
    "a = 100"
   ]
  },
  {
   "cell_type": "code",
   "execution_count": null,
   "id": "b9c228f8",
   "metadata": {},
   "outputs": [],
   "source": [
    "## Declaring and Assigning a variable\n",
    "\n",
    "age = 25\n",
    "height = 1.75\n",
    "name = 'Emirhan'\n",
    "is_student = True\n",
    "\n",
    "# Printing the variables\n",
    "print(\"Age:\", age)\n",
    "print(\"Height:\", height)\n",
    "print(\"Name:\", name)\n",
    "print(\"Is Student:\", is_student)"
   ]
  },
  {
   "cell_type": "code",
   "execution_count": null,
   "id": "8077bb5d",
   "metadata": {},
   "outputs": [],
   "source": [
    "## Naming Conventions\n",
    "## Variable names should be descriptive\n",
    "## They must start with a letter or underscore\n",
    "## They can contain letters, numbers, and underscores\n",
    "\n",
    "first_name = \"Emirhan\"\n",
    "last_name = \"Keser\""
   ]
  },
  {
   "cell_type": "code",
   "execution_count": null,
   "id": "28b9bc93",
   "metadata": {},
   "outputs": [],
   "source": [
    "# Invalid variable names\n",
    "# 1st_name = \"Emirhan\"  # Cannot start with a number\n",
    "# first-name = \"Emirhan\"  # Cannot contain hyphens\n",
    "# first name = \"Emirhan\"  # Cannot contain spaces\n",
    "# _first_name = \"Emirhan\"  # Valid, but underscores are often used for private variables"
   ]
  },
  {
   "cell_type": "code",
   "execution_count": 1,
   "id": "a22ffc3a",
   "metadata": {},
   "outputs": [
    {
     "name": "stdout",
     "output_type": "stream",
     "text": [
      "Updated Age: 30\n",
      "Updated Height: 1.8\n",
      "Updated Name: Ali\n",
      "Updated Is Student: False\n"
     ]
    }
   ],
   "source": [
    "## Understanding Variable Types\n",
    "## Python is dynamically typed, meaning you don't need to declare the type of a variable explicitly.\n",
    "\n",
    "age = 30  # Reassigning a new value to the variable\n",
    "height = 1.80  # Changing the value of height\n",
    "name = \"Ali\"  # Changing the value of name\n",
    "is_student = False  # Changing the value of is_student\n",
    "# Printing the updated variables\n",
    "print(\"Updated Age:\", age)\n",
    "print(\"Updated Height:\", height)\n",
    "print(\"Updated Name:\", name)\n",
    "print(\"Updated Is Student:\", is_student)"
   ]
  },
  {
   "cell_type": "code",
   "execution_count": 4,
   "id": "fc49148a",
   "metadata": {},
   "outputs": [
    {
     "name": "stdout",
     "output_type": "stream",
     "text": [
      "Type of age: <class 'int'>\n",
      "Type of age_str: <class 'str'>\n"
     ]
    }
   ],
   "source": [
    "## Type Checking and Conversion\n",
    "\n",
    "age = 25 \n",
    "print(\"Type of age:\", type(age))\n",
    "\n",
    "# Type conversion\n",
    "age_str = str(age)  # Convert integer to string\n",
    "print(\"Type of age_str:\", type(age_str))"
   ]
  },
  {
   "cell_type": "code",
   "execution_count": 5,
   "id": "b334a023",
   "metadata": {},
   "outputs": [
    {
     "ename": "ValueError",
     "evalue": "invalid literal for int() with base 10: 'Emirhan'",
     "output_type": "error",
     "traceback": [
      "\u001b[0;31m---------------------------------------------------------------------------\u001b[0m",
      "\u001b[0;31mValueError\u001b[0m                                Traceback (most recent call last)",
      "Cell \u001b[0;32mIn[5], line 2\u001b[0m\n\u001b[1;32m      1\u001b[0m first_name \u001b[38;5;241m=\u001b[39m \u001b[38;5;124m\"\u001b[39m\u001b[38;5;124mEmirhan\u001b[39m\u001b[38;5;124m\"\u001b[39m\n\u001b[0;32m----> 2\u001b[0m \u001b[38;5;28;43mint\u001b[39;49m\u001b[43m(\u001b[49m\u001b[43mfirst_name\u001b[49m\u001b[43m)\u001b[49m\n",
      "\u001b[0;31mValueError\u001b[0m: invalid literal for int() with base 10: 'Emirhan'"
     ]
    }
   ],
   "source": [
    "first_name = \"Emirhan\"\n",
    "int(first_name)  # This will raise an error because you cannot convert a string to an integer directly"
   ]
  },
  {
   "cell_type": "code",
   "execution_count": 7,
   "id": "8d2e30ff",
   "metadata": {},
   "outputs": [
    {
     "name": "stdout",
     "output_type": "stream",
     "text": [
      "Type of height: <class 'float'>\n",
      "Height as integer: 1\n"
     ]
    }
   ],
   "source": [
    "height = 1.75\n",
    "print(\"Type of height:\", type(height))\n",
    "height_int = int(height)  # Convert float to integer\n",
    "print(\"Height as integer:\", height_int)"
   ]
  }
 ],
 "metadata": {
  "kernelspec": {
   "display_name": "ML",
   "language": "python",
   "name": "python3"
  },
  "language_info": {
   "codemirror_mode": {
    "name": "ipython",
    "version": 3
   },
   "file_extension": ".py",
   "mimetype": "text/x-python",
   "name": "python",
   "nbconvert_exporter": "python",
   "pygments_lexer": "ipython3",
   "version": "3.10.13"
  }
 },
 "nbformat": 4,
 "nbformat_minor": 5
}
