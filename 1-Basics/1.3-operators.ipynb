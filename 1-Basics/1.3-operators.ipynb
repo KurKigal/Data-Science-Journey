{
 "cells": [
  {
   "cell_type": "code",
   "execution_count": 3,
   "id": "d29269d3",
   "metadata": {},
   "outputs": [
    {
     "name": "stdout",
     "output_type": "stream",
     "text": [
      "15\n",
      "5\n",
      "50\n",
      "2.0\n",
      "2\n",
      "0\n",
      "100000\n"
     ]
    }
   ],
   "source": [
    "## Arithmetic Operations\n",
    "\n",
    "a = 10\n",
    "b = 5\n",
    "\n",
    "add_result = a + b\n",
    "sub_result = a - b\n",
    "mul_result = a * b\n",
    "div_result = a / b\n",
    "float_div_result = a // b\n",
    "modulus_result = a % b\n",
    "exp_result = a ** b\n",
    "\n",
    "print(add_result)        \n",
    "print(sub_result)\n",
    "print(mul_result)\n",
    "print(div_result)\n",
    "print(float_div_result)\n",
    "print(modulus_result)\n",
    "print(exp_result)\n"
   ]
  },
  {
   "cell_type": "markdown",
   "id": "c1a3a2b3",
   "metadata": {},
   "source": [
    "## Comparison Operations"
   ]
  },
  {
   "cell_type": "code",
   "execution_count": null,
   "id": "e923f089",
   "metadata": {},
   "outputs": [
    {
     "name": "stdout",
     "output_type": "stream",
     "text": [
      "False\n"
     ]
    }
   ],
   "source": [
    "\n",
    "## ==\n",
    "a = 10\n",
    "b = 5\n",
    "print(a == b)  "
   ]
  },
  {
   "cell_type": "code",
   "execution_count": 5,
   "id": "e40ba552",
   "metadata": {},
   "outputs": [
    {
     "name": "stdout",
     "output_type": "stream",
     "text": [
      "True\n"
     ]
    }
   ],
   "source": [
    "str1 = 'Emirhan'\n",
    "str2 = 'Emirhan'\n",
    "print(str1 == str2)"
   ]
  },
  {
   "cell_type": "code",
   "execution_count": 6,
   "id": "a865c113",
   "metadata": {},
   "outputs": [
    {
     "name": "stdout",
     "output_type": "stream",
     "text": [
      "True\n"
     ]
    }
   ],
   "source": [
    "## Not Equal\n",
    "print(a != b)"
   ]
  },
  {
   "cell_type": "code",
   "execution_count": 7,
   "id": "189552b2",
   "metadata": {},
   "outputs": [
    {
     "name": "stdout",
     "output_type": "stream",
     "text": [
      "True\n"
     ]
    }
   ],
   "source": [
    "## Greater Than\n",
    "print(a > b)"
   ]
  },
  {
   "cell_type": "code",
   "execution_count": 8,
   "id": "3645793e",
   "metadata": {},
   "outputs": [
    {
     "name": "stdout",
     "output_type": "stream",
     "text": [
      "False\n"
     ]
    }
   ],
   "source": [
    "## Lower Than\n",
    "print(a < b)"
   ]
  },
  {
   "cell_type": "code",
   "execution_count": 9,
   "id": "d5ab19be",
   "metadata": {},
   "outputs": [
    {
     "name": "stdout",
     "output_type": "stream",
     "text": [
      "True\n"
     ]
    }
   ],
   "source": [
    "## Greater Than or Equal\n",
    "print(a >= b)"
   ]
  },
  {
   "cell_type": "code",
   "execution_count": 10,
   "id": "73364ea7",
   "metadata": {},
   "outputs": [
    {
     "name": "stdout",
     "output_type": "stream",
     "text": [
      "False\n"
     ]
    }
   ],
   "source": [
    "## Lower Than or Equal\n",
    "print(a <= b)"
   ]
  },
  {
   "cell_type": "markdown",
   "id": "fe83bff6",
   "metadata": {},
   "source": [
    "## Logical Operators"
   ]
  },
  {
   "cell_type": "code",
   "execution_count": null,
   "id": "d2e9a742",
   "metadata": {},
   "outputs": [
    {
     "name": "stdout",
     "output_type": "stream",
     "text": [
      "True\n",
      "True\n",
      "False\n"
     ]
    }
   ],
   "source": [
    "## And, Or, Not\n",
    "a = 10\n",
    "b = 5\n",
    "print(a > b and a < 20)  \n",
    "print(a > b or a < 20)   \n",
    "print(not (a > b))       "
   ]
  }
 ],
 "metadata": {
  "kernelspec": {
   "display_name": "ML",
   "language": "python",
   "name": "python3"
  },
  "language_info": {
   "codemirror_mode": {
    "name": "ipython",
    "version": 3
   },
   "file_extension": ".py",
   "mimetype": "text/x-python",
   "name": "python",
   "nbconvert_exporter": "python",
   "pygments_lexer": "ipython3",
   "version": "3.10.13"
  }
 },
 "nbformat": 4,
 "nbformat_minor": 5
}
