{
 "cells": [
  {
   "cell_type": "code",
   "execution_count": 2,
   "id": "4dd6e9b7",
   "metadata": {},
   "outputs": [
    {
     "name": "stdout",
     "output_type": "stream",
     "text": [
      "Emirhan\n",
      "Keser\n"
     ]
    }
   ],
   "source": [
    "## Basic Syntx Rules In Python\n",
    "## Case Sensitivity\n",
    "\n",
    "name = 'Emirhan'\n",
    "Name = 'Keser'\n",
    "\n",
    "print(name)\n",
    "print(Name) "
   ]
  },
  {
   "cell_type": "code",
   "execution_count": 3,
   "id": "b6d14343",
   "metadata": {},
   "outputs": [
    {
     "name": "stdout",
     "output_type": "stream",
     "text": [
      "25\n",
      "25\n"
     ]
    }
   ],
   "source": [
    "## Indentation\n",
    "## Python uses indentation to define blocks of code. Consistent use of spaces (commonly 4 spaces) or a tab is required.\n",
    "\n",
    "age = 25\n",
    "if age > 18:\n",
    "    print(age)\n",
    "\n",
    "print(age)"
   ]
  },
  {
   "cell_type": "code",
   "execution_count": 4,
   "id": "6248092f",
   "metadata": {},
   "outputs": [
    {
     "name": "stdout",
     "output_type": "stream",
     "text": [
      "Hello, World!\n"
     ]
    }
   ],
   "source": [
    "## This is a single line comment\n",
    "print(\"Hello, World!\")"
   ]
  },
  {
   "cell_type": "code",
   "execution_count": 5,
   "id": "d28488fe",
   "metadata": {},
   "outputs": [
    {
     "name": "stdout",
     "output_type": "stream",
     "text": [
      "This is a very long string that needs to be continued on the next line for better readability.\n"
     ]
    }
   ],
   "source": [
    "## Line Continuation\n",
    "## Use a backslash (\\) to continue a line of code onto the next line, or use parentheses for implicit line continuation.\n",
    "long_string = \"This is a very long string that needs to be continued \" \\\n",
    "              \"on the next line for better readability.\"\n",
    "print(long_string)"
   ]
  },
  {
   "cell_type": "code",
   "execution_count": 6,
   "id": "c1ae64db",
   "metadata": {},
   "outputs": [
    {
     "name": "stdout",
     "output_type": "stream",
     "text": [
      "5 10 15\n"
     ]
    }
   ],
   "source": [
    "## Multiple Statements on a Single Line\n",
    "x = 5; y = 10; z = x + y\n",
    "print(x, y, z)"
   ]
  },
  {
   "cell_type": "code",
   "execution_count": 7,
   "id": "9d86fc59",
   "metadata": {},
   "outputs": [],
   "source": [
    "## Understand   Semnatics In Python\n",
    "# Variable assignment\n",
    "x = 10 ## X is an integer variable with a value of 10\n",
    "y = 'Emirhan' ## Y is a string variable with a value of 'Emirhan'"
   ]
  },
  {
   "cell_type": "code",
   "execution_count": 8,
   "id": "46a8ae45",
   "metadata": {},
   "outputs": [
    {
     "name": "stdout",
     "output_type": "stream",
     "text": [
      "<class 'int'>\n",
      "<class 'str'>\n"
     ]
    }
   ],
   "source": [
    "## Type Inference\n",
    "variable = 20\n",
    "print(type(variable))\n",
    "variable = \"Hello\"\n",
    "print(type(variable))"
   ]
  }
 ],
 "metadata": {
  "kernelspec": {
   "display_name": "ML",
   "language": "python",
   "name": "python3"
  },
  "language_info": {
   "codemirror_mode": {
    "name": "ipython",
    "version": 3
   },
   "file_extension": ".py",
   "mimetype": "text/x-python",
   "name": "python",
   "nbconvert_exporter": "python",
   "pygments_lexer": "ipython3",
   "version": "3.10.13"
  }
 },
 "nbformat": 4,
 "nbformat_minor": 5
}
