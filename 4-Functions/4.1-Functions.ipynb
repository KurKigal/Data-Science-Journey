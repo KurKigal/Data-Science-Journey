{
 "cells": [
  {
   "cell_type": "code",
   "execution_count": 1,
   "id": "aa9c0612",
   "metadata": {},
   "outputs": [],
   "source": [
    "def function_name(parameters):\n",
    "    \"\"\"\n",
    "    Docstring for the function.\n",
    "    \"\"\"\n",
    "    #Function body starts here\n",
    "    return expression"
   ]
  },
  {
   "cell_type": "code",
   "execution_count": 2,
   "id": "8954ef29",
   "metadata": {},
   "outputs": [
    {
     "name": "stdout",
     "output_type": "stream",
     "text": [
      "the number is even\n"
     ]
    }
   ],
   "source": [
    "## Why Functions\n",
    "## Functions are reusable blocks of code that perform a specific task. They help in organizing code, making it more readable and maintainable. Functions can take inputs (parameters) and return outputs (results).\n",
    "num = 24\n",
    "if num%2==0:\n",
    "    print('the number is even')\n",
    "else:\n",
    "    print('the number is odd')"
   ]
  },
  {
   "cell_type": "code",
   "execution_count": 3,
   "id": "4d34ac0f",
   "metadata": {},
   "outputs": [],
   "source": [
    "def even_or_odd(num):\n",
    "    \"\"\"\n",
    "    This function checks if a number is even or odd.\n",
    "    \"\"\"\n",
    "    if num % 2 == 0:\n",
    "        return 'the number is even'\n",
    "    else:\n",
    "        return 'the number is odd'"
   ]
  },
  {
   "cell_type": "code",
   "execution_count": 4,
   "id": "1720c24c",
   "metadata": {},
   "outputs": [
    {
     "data": {
      "text/plain": [
       "'the number is even'"
      ]
     },
     "execution_count": 4,
     "metadata": {},
     "output_type": "execute_result"
    }
   ],
   "source": [
    "## Call this function\n",
    "even_or_odd(24)"
   ]
  },
  {
   "cell_type": "code",
   "execution_count": 5,
   "id": "969f9927",
   "metadata": {},
   "outputs": [],
   "source": [
    "## Function with multiple parameters\n",
    "def add_numbers(a, b):\n",
    "    \"\"\"\n",
    "    This function adds two numbers and returns the result.\n",
    "    \"\"\"\n",
    "    return a + b"
   ]
  },
  {
   "cell_type": "code",
   "execution_count": 6,
   "id": "93ba699b",
   "metadata": {},
   "outputs": [
    {
     "data": {
      "text/plain": [
       "15"
      ]
     },
     "execution_count": 6,
     "metadata": {},
     "output_type": "execute_result"
    }
   ],
   "source": [
    "## Call this function\n",
    "add_numbers(5, 10)"
   ]
  },
  {
   "cell_type": "code",
   "execution_count": 7,
   "id": "977fe1b3",
   "metadata": {},
   "outputs": [
    {
     "data": {
      "text/plain": [
       "'Hello, Emirhan!'"
      ]
     },
     "execution_count": 7,
     "metadata": {},
     "output_type": "execute_result"
    }
   ],
   "source": [
    "def greet(name):\n",
    "    \"\"\"\n",
    "    This function greets a person with their name.\n",
    "    \"\"\"\n",
    "    return f\"Hello, {name}!\"\n",
    "## Call this function\n",
    "greet(\"Emirhan\")"
   ]
  },
  {
   "cell_type": "code",
   "execution_count": 8,
   "id": "66772b4d",
   "metadata": {},
   "outputs": [
    {
     "data": {
      "text/plain": [
       "'Hello, Guest!'"
      ]
     },
     "execution_count": 8,
     "metadata": {},
     "output_type": "execute_result"
    }
   ],
   "source": [
    "def greet(name='Guest'):\n",
    "    \"\"\"\n",
    "    This function greets a person with their name.\n",
    "    If no name is provided, it defaults to 'Emirhan'.\n",
    "    \"\"\"\n",
    "    return f\"Hello, {name}!\"\n",
    "## Call this function\n",
    "greet()  # No name provided, defaults to 'Guest'"
   ]
  },
  {
   "cell_type": "code",
   "execution_count": 9,
   "id": "6941c091",
   "metadata": {},
   "outputs": [
    {
     "name": "stdout",
     "output_type": "stream",
     "text": [
      "1\n",
      "2\n",
      "3\n",
      "4\n",
      "Emirhan\n"
     ]
    }
   ],
   "source": [
    "### Variable Length Arguments\n",
    "## Positional Arguments\n",
    "def print_numbers(*emir):\n",
    "    '''\n",
    "    This function prints all the numbers passed to it.\n",
    "    '''\n",
    "    for number in emir:\n",
    "        print(number)\n",
    "\n",
    "## Call this function\n",
    "print_numbers(1, 2, 3, 4, 'Emirhan')  # Returns 10"
   ]
  },
  {
   "cell_type": "code",
   "execution_count": 10,
   "id": "49f5a18d",
   "metadata": {},
   "outputs": [
    {
     "name": "stdout",
     "output_type": "stream",
     "text": [
      "name: Emirhan\n",
      "age: 24\n",
      "city: Istanbul\n"
     ]
    }
   ],
   "source": [
    "## Keyword Arguments\n",
    "def print_details(**details):\n",
    "    \"\"\"\n",
    "    This function prints the details passed to it as keyword arguments.\n",
    "    \"\"\"\n",
    "    for key, value in details.items():\n",
    "        print(f\"{key}: {value}\")\n",
    "## Call this function\n",
    "print_details(name=\"Emirhan\", age=24, city=\"Istanbul\")"
   ]
  },
  {
   "cell_type": "code",
   "execution_count": 11,
   "id": "0c7ffbd0",
   "metadata": {},
   "outputs": [
    {
     "name": "stdout",
     "output_type": "stream",
     "text": [
      "Positional arguments:\n",
      "1\n",
      "2\n",
      "3\n",
      "\n",
      "Keyword arguments:\n",
      "name: Emirhan\n",
      "age: 24\n"
     ]
    }
   ],
   "source": [
    "## Positional and Keyword Arguments\n",
    "def print_details(*args, **kwargs):\n",
    "    \"\"\"\n",
    "    This function prints positional and keyword arguments.\n",
    "    \"\"\"\n",
    "    print(\"Positional arguments:\")\n",
    "    for arg in args:\n",
    "        print(arg)\n",
    "    \n",
    "    print(\"\\nKeyword arguments:\")\n",
    "    for key, value in kwargs.items():\n",
    "        print(f\"{key}: {value}\")\n",
    "## Call this function\n",
    "print_details(1, 2, 3, name=\"Emirhan\", age=24)"
   ]
  },
  {
   "cell_type": "code",
   "execution_count": 12,
   "id": "330463a8",
   "metadata": {},
   "outputs": [
    {
     "data": {
      "text/plain": [
       "25"
      ]
     },
     "execution_count": 12,
     "metadata": {},
     "output_type": "execute_result"
    }
   ],
   "source": [
    "### Return Statement\n",
    "def calculate_square(num):\n",
    "    \"\"\"\n",
    "    This function calculates the square of a number.\n",
    "    \"\"\"\n",
    "    return num * num\n",
    "## Call this function\n",
    "calculate_square(5)  # Returns 25"
   ]
  },
  {
   "cell_type": "code",
   "execution_count": 13,
   "id": "483d9721",
   "metadata": {},
   "outputs": [
    {
     "data": {
      "text/plain": [
       "(50, 30)"
      ]
     },
     "execution_count": 13,
     "metadata": {},
     "output_type": "execute_result"
    }
   ],
   "source": [
    "### Return multiple values\n",
    "def calculate_area_and_perimeter(length, width):\n",
    "    \"\"\"\n",
    "    This function calculates the area and perimeter of a rectangle.\n",
    "    \"\"\"\n",
    "    area = length * width\n",
    "    perimeter = 2 * (length + width)\n",
    "    return area, perimeter\n",
    "## Call this function\n",
    "calculate_area_and_perimeter(5, 10)  # Returns (50, 30)"
   ]
  }
 ],
 "metadata": {
  "kernelspec": {
   "display_name": "ML",
   "language": "python",
   "name": "python3"
  },
  "language_info": {
   "codemirror_mode": {
    "name": "ipython",
    "version": 3
   },
   "file_extension": ".py",
   "mimetype": "text/x-python",
   "name": "python",
   "nbconvert_exporter": "python",
   "pygments_lexer": "ipython3",
   "version": "3.10.13"
  }
 },
 "nbformat": 4,
 "nbformat_minor": 5
}
