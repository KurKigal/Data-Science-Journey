{
 "cells": [
  {
   "cell_type": "code",
   "execution_count": 5,
   "id": "c4ef50f1",
   "metadata": {},
   "outputs": [
    {
     "name": "stdout",
     "output_type": "stream",
     "text": [
      "Woof!\n",
      "Meow!\n",
      "Woof!\n",
      "Meow!\n"
     ]
    }
   ],
   "source": [
    "## Base Class\n",
    "class Animal:\n",
    "    def speak(self):\n",
    "        raise 'Sound of the animal'\n",
    "    \n",
    "# Derived Class\n",
    "class Dog(Animal):\n",
    "    def speak(self):\n",
    "        return 'Woof!'\n",
    "    \n",
    "# Derived Class\n",
    "class Cat(Animal):\n",
    "    def speak(self):\n",
    "        return 'Meow!'\n",
    "\n",
    "def animal_speak(animal):\n",
    "    print(animal.speak())\n",
    "\n",
    "dog = Dog()\n",
    "cat = Cat()\n",
    "print(dog.speak())\n",
    "print(cat.speak())\n",
    "animal_speak(dog)\n",
    "animal_speak(cat)"
   ]
  },
  {
   "cell_type": "code",
   "execution_count": 6,
   "id": "c5fecaca",
   "metadata": {},
   "outputs": [
    {
     "name": "stdout",
     "output_type": "stream",
     "text": [
      "The area is: 50\n",
      "The area is: 153.86\n"
     ]
    }
   ],
   "source": [
    "## Polymorphism with Functions and Methods\n",
    "# Base Class\n",
    "\n",
    "class Shape:    \n",
    "    def area(self):\n",
    "        raise 'Area of the shape'\n",
    "    \n",
    "# Derived Class 1\n",
    "class Rectangle(Shape):\n",
    "    def __init__(self, width, height):\n",
    "        self.width = width\n",
    "        self.height = height\n",
    "\n",
    "    def area(self):\n",
    "        return self.width * self.height\n",
    "    \n",
    "# Derived Class 2\n",
    "class Circle(Shape):\n",
    "    def __init__(self, radius):\n",
    "        self.radius = radius\n",
    "\n",
    "    def area(self):\n",
    "        return 3.14 * (self.radius ** 2)\n",
    "    \n",
    "# Function that demonstrates polymorphism\n",
    "def print_area(shape):\n",
    "    print(f'The area is: {shape.area()}')\n",
    "\n",
    "rectangle = Rectangle(5, 10)\n",
    "circle = Circle(7)\n",
    "print_area(rectangle)\n",
    "print_area(circle)"
   ]
  },
  {
   "cell_type": "markdown",
   "id": "1cf213a0",
   "metadata": {},
   "source": [
    "## Polymorphism with Abstract Base Classes\n",
    "\n",
    "Abstract Base Classes (ABCs) are used to define common methods for a group of related objects. They can enforce that derived c;asses implement particular methods, promoting consistency across different implementations."
   ]
  },
  {
   "cell_type": "code",
   "execution_count": 7,
   "id": "88531351",
   "metadata": {},
   "outputs": [
    {
     "name": "stdout",
     "output_type": "stream",
     "text": [
      "Car engine started\n",
      "Motorcycle engine started\n"
     ]
    }
   ],
   "source": [
    "from abc import ABC, abstractmethod\n",
    "\n",
    "## Defining an Abstract Base Class\n",
    "class Vehicle(ABC):\n",
    "    @abstractmethod\n",
    "    def start_engine(self):\n",
    "        pass\n",
    "\n",
    "# Derived Class 1\n",
    "class Car(Vehicle):\n",
    "    def start_engine(self):\n",
    "        return 'Car engine started'\n",
    "    \n",
    "# Derived Class 2\n",
    "class Motorcycle(Vehicle):\n",
    "    def start_engine(self):\n",
    "        return 'Motorcycle engine started'\n",
    "\n",
    "## Function to demonstrate polymorphism\n",
    "def start_vehicle(vehicle):\n",
    "    print(vehicle.start_engine())\n",
    "\n",
    "## Create objects of Car and Motorcycle\n",
    "car = Car()\n",
    "motorcycle = Motorcycle()\n",
    "\n",
    "start_vehicle(car)\n",
    "start_vehicle(motorcycle)"
   ]
  }
 ],
 "metadata": {
  "kernelspec": {
   "display_name": "ML",
   "language": "python",
   "name": "python3"
  },
  "language_info": {
   "codemirror_mode": {
    "name": "ipython",
    "version": 3
   },
   "file_extension": ".py",
   "mimetype": "text/x-python",
   "name": "python",
   "nbconvert_exporter": "python",
   "pygments_lexer": "ipython3",
   "version": "3.10.13"
  }
 },
 "nbformat": 4,
 "nbformat_minor": 5
}
