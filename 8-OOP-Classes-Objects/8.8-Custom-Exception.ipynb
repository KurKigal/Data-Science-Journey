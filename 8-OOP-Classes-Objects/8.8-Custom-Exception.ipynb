{
 "cells": [
  {
   "cell_type": "code",
   "execution_count": 1,
   "id": "55120a0a",
   "metadata": {},
   "outputs": [],
   "source": [
    "## Custom Exception (Raise and Throw an Exception)\n",
    "\n",
    "class Error(Exception):\n",
    "    \"\"\"Base class for other exceptions\"\"\"\n",
    "    pass\n",
    "\n",
    "class dobException(Error):\n",
    "    pass"
   ]
  },
  {
   "cell_type": "code",
   "execution_count": 2,
   "id": "ae8c6dbe",
   "metadata": {},
   "outputs": [
    {
     "name": "stdout",
     "output_type": "stream",
     "text": [
      "You are not eligible to vote, you are under 18\n"
     ]
    }
   ],
   "source": [
    "year = int(input(\"Enter the dob: \"))\n",
    "age = 2025 - year\n",
    "\n",
    "try:\n",
    "    if age <=30 and age >= 20:\n",
    "        print(\"You are eligible to vote\")\n",
    "    else:\n",
    "        raise dobException\n",
    "except dobException:\n",
    "    print('You are not eligible to vote, you are under 18')"
   ]
  }
 ],
 "metadata": {
  "kernelspec": {
   "display_name": "ML",
   "language": "python",
   "name": "python3"
  },
  "language_info": {
   "codemirror_mode": {
    "name": "ipython",
    "version": 3
   },
   "file_extension": ".py",
   "mimetype": "text/x-python",
   "name": "python",
   "nbconvert_exporter": "python",
   "pygments_lexer": "ipython3",
   "version": "3.10.13"
  }
 },
 "nbformat": 4,
 "nbformat_minor": 5
}
