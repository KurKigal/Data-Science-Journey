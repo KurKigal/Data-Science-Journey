{
 "cells": [
  {
   "cell_type": "code",
   "execution_count": null,
   "id": "41e6c86e",
   "metadata": {},
   "outputs": [],
   "source": [
    "## Inheritance (Single Inheritance)\n",
    "## Parent class\n",
    "class Car:\n",
    "    def __init__(self,windows,doors,enginetype):\n",
    "        self.windows = windows\n",
    "        self.doors = doors\n",
    "        self.enginetype = enginetype\n",
    "\n",
    "    def drive(self):\n",
    "        print(f'The person will drive the {self.enginetype} car with {self.windows} windows and {self.doors} doors.')"
   ]
  },
  {
   "cell_type": "code",
   "execution_count": 3,
   "id": "5ccf9859",
   "metadata": {},
   "outputs": [
    {
     "name": "stdout",
     "output_type": "stream",
     "text": [
      "The person will drive the electric car with 4 windows and 4 doors.\n"
     ]
    }
   ],
   "source": [
    "car1 = Car(4, 4, 'electric')\n",
    "car1.drive()"
   ]
  },
  {
   "cell_type": "code",
   "execution_count": 5,
   "id": "f58c7260",
   "metadata": {},
   "outputs": [
    {
     "name": "stdout",
     "output_type": "stream",
     "text": [
      "The electric Tesla with 4 windows and 4 doors is driving itself.\n"
     ]
    }
   ],
   "source": [
    "class Tesla(Car):\n",
    "    def __init__(self, windows, doors, enginetype, is_self_driving):\n",
    "        super().__init__(windows, doors, enginetype)\n",
    "        self.is_self_driving = is_self_driving\n",
    "\n",
    "    def self_drive(self):\n",
    "        if self.is_self_driving:\n",
    "            print(f'The {self.enginetype} Tesla with {self.windows} windows and {self.doors} doors is driving itself.')\n",
    "        else:\n",
    "            print(f'The {self.enginetype} Tesla with {self.windows} windows and {self.doors} doors is not self-driving.')\n",
    "\n",
    "tesla1 = Tesla(4, 4, 'electric', True)\n",
    "tesla1.self_drive()"
   ]
  },
  {
   "cell_type": "code",
   "execution_count": 7,
   "id": "c33f78c7",
   "metadata": {},
   "outputs": [
    {
     "name": "stdout",
     "output_type": "stream",
     "text": [
      "The electric car with 4 windows, 4 doors and 4 wheels is driving.\n",
      "The vehicle with 4 wheels is moving.\n"
     ]
    }
   ],
   "source": [
    "## Multiple Inheritance\n",
    "class Car:\n",
    "    def __init__(self,windows,doors,enginetype):\n",
    "        self.windows = windows\n",
    "        self.doors = doors\n",
    "        self.enginetype = enginetype\n",
    "\n",
    "    def drive(self):\n",
    "        print(f'The person will drive the {self.enginetype} car with {self.windows} windows and {self.doors} doors.')\n",
    "\n",
    "class Vehicle:\n",
    "    def __init__(self, wheels):\n",
    "        self.wheels = wheels\n",
    "\n",
    "    def move(self):\n",
    "        print(f'The vehicle with {self.wheels} wheels is moving.')\n",
    "\n",
    "class ElectricCar(Car, Vehicle):\n",
    "    def __init__(self, windows, doors, enginetype, wheels):\n",
    "        Car.__init__(self, windows, doors, enginetype)\n",
    "        Vehicle.__init__(self, wheels)\n",
    "\n",
    "    def drive(self):\n",
    "        print(f'The electric car with {self.windows} windows, {self.doors} doors and {self.wheels} wheels is driving.')\n",
    "\n",
    "electric_car = ElectricCar(4, 4, 'electric', 4)\n",
    "electric_car.drive()\n",
    "electric_car.move()"
   ]
  }
 ],
 "metadata": {
  "kernelspec": {
   "display_name": "ML",
   "language": "python",
   "name": "python3"
  },
  "language_info": {
   "codemirror_mode": {
    "name": "ipython",
    "version": 3
   },
   "file_extension": ".py",
   "mimetype": "text/x-python",
   "name": "python",
   "nbconvert_exporter": "python",
   "pygments_lexer": "ipython3",
   "version": "3.10.13"
  }
 },
 "nbformat": 4,
 "nbformat_minor": 5
}
