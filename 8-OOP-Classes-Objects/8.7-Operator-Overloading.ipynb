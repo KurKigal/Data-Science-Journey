{
 "cells": [
  {
   "cell_type": "code",
   "execution_count": 3,
   "id": "2fb571b5",
   "metadata": {},
   "outputs": [
    {
     "data": {
      "text/plain": [
       "\"\\n__add__(self, other): Adds two objects using the '+' operator.\\n__sub__(self, other): Subtracts two objects using the '-' operator.\\n__mul__(self, other): Multiplies two objects using the '*' operator.\\n__truediv__(self, other): Divides two objects using the '/' operator.\\n__eq__(self, other): Checks if two objects are equal using the '==' operator.\\n__lt__(self, other): Checks if one object is less than another using the '<' operator.\\n\""
      ]
     },
     "execution_count": 3,
     "metadata": {},
     "output_type": "execute_result"
    }
   ],
   "source": [
    "## Common Operator Overloading Magic Methods\n",
    "'''\n",
    "__add__(self, other): Adds two objects using the '+' operator.\n",
    "__sub__(self, other): Subtracts two objects using the '-' operator.\n",
    "__mul__(self, other): Multiplies two objects using the '*' operator.\n",
    "__truediv__(self, other): Divides two objects using the '/' operator.\n",
    "__eq__(self, other): Checks if two objects are equal using the '==' operator.\n",
    "__lt__(self, other): Checks if one object is less than another using the '<' operator.\n",
    "'''"
   ]
  },
  {
   "cell_type": "code",
   "execution_count": 4,
   "id": "ff0f563f",
   "metadata": {},
   "outputs": [
    {
     "name": "stdout",
     "output_type": "stream",
     "text": [
      "Vector(4, 6)\n",
      "Vector(2, 2)\n",
      "Vector(6, 8)\n",
      "Vector(1.5, 2.0)\n",
      "False\n",
      "False\n",
      "True\n"
     ]
    }
   ],
   "source": [
    "class Vector:\n",
    "    def __init__(self, x, y):\n",
    "        self.x = x\n",
    "        self.y = y\n",
    "\n",
    "    def __add__(self, other):\n",
    "        return Vector(self.x + other.x, self.y + other.y)\n",
    "\n",
    "    def __sub__(self, other):\n",
    "        return Vector(self.x - other.x, self.y - other.y)\n",
    "\n",
    "    def __mul__(self, scalar):\n",
    "        return Vector(self.x * scalar, self.y * scalar)\n",
    "\n",
    "    def __truediv__(self, scalar):\n",
    "        return Vector(self.x / scalar, self.y / scalar)\n",
    "\n",
    "    def __eq__(self, other):\n",
    "        return self.x == other.x and self.y == other.y\n",
    "\n",
    "    def __lt__(self, other):\n",
    "        return (self.x**2 + self.y**2) < (other.x**2 + other.y**2)\n",
    "\n",
    "    def __repr__(self):\n",
    "        return f\"Vector({self.x}, {self.y})\"\n",
    "\n",
    "# Example usage\n",
    "v1 = Vector(3, 4)\n",
    "v2 = Vector(1, 2)\n",
    "print(v1 + v2)  \n",
    "print(v1 - v2)  \n",
    "print(v1 * 2)   \n",
    "print(v1 / 2)   \n",
    "print(v1 == v2)  \n",
    "print(v1 < v2)   \n",
    "print(v1 < Vector(5, 5))  "
   ]
  },
  {
   "cell_type": "code",
   "execution_count": 5,
   "id": "3b1e6b19",
   "metadata": {},
   "outputs": [
    {
     "name": "stdout",
     "output_type": "stream",
     "text": [
      "ComplexNumber(3, 7)\n",
      "ComplexNumber(1, -1)\n",
      "ComplexNumber(-10, 11)\n",
      "ComplexNumber(0.8235294117647058, -0.29411764705882354)\n",
      "False\n"
     ]
    }
   ],
   "source": [
    "## Overloading Operators for Complex Numbers\n",
    "class ComplexNumber:\n",
    "    def __init__(self, real, imag):\n",
    "        self.real = real\n",
    "        self.imag = imag\n",
    "\n",
    "    def __add__(self, other):\n",
    "        return ComplexNumber(self.real + other.real, self.imag + other.imag)\n",
    "\n",
    "    def __sub__(self, other):\n",
    "        return ComplexNumber(self.real - other.real, self.imag - other.imag)\n",
    "\n",
    "    def __mul__(self, other):\n",
    "        return ComplexNumber(\n",
    "            self.real * other.real - self.imag * other.imag,\n",
    "            self.real * other.imag + self.imag * other.real\n",
    "        )\n",
    "\n",
    "    def __truediv__(self, other):\n",
    "        denom = other.real**2 + other.imag**2\n",
    "        return ComplexNumber(\n",
    "            (self.real * other.real + self.imag * other.imag) / denom,\n",
    "            (self.imag * other.real - self.real * other.imag) / denom\n",
    "        )\n",
    "\n",
    "    def __repr__(self):\n",
    "        return f\"ComplexNumber({self.real}, {self.imag})\"\n",
    "\n",
    "# Crate object of the ComplexNumber class\n",
    "c1 = ComplexNumber(2, 3)\n",
    "c2 = ComplexNumber(1, 4)\n",
    "\n",
    "print(c1 + c2)  \n",
    "print(c1 - c2)  \n",
    "print(c1 * c2)  \n",
    "print(c1 / c2)  \n",
    "print(c1 == c2)  "
   ]
  }
 ],
 "metadata": {
  "kernelspec": {
   "display_name": "ML",
   "language": "python",
   "name": "python3"
  },
  "language_info": {
   "codemirror_mode": {
    "name": "ipython",
    "version": 3
   },
   "file_extension": ".py",
   "mimetype": "text/x-python",
   "name": "python",
   "nbconvert_exporter": "python",
   "pygments_lexer": "ipython3",
   "version": "3.10.13"
  }
 },
 "nbformat": 4,
 "nbformat_minor": 5
}
