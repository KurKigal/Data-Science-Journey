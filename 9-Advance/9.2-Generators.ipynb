{
 "cells": [
  {
   "cell_type": "code",
   "execution_count": 21,
   "id": "7847f652",
   "metadata": {},
   "outputs": [],
   "source": [
    "## A generator function is a function that returns an iterator.\n",
    "def square(n):\n",
    "    for i in range(3):\n",
    "        yield i**2\n",
    "\n",
    "## The yield keyword is used to make a generator function."
   ]
  },
  {
   "cell_type": "code",
   "execution_count": 22,
   "id": "4f30bb38",
   "metadata": {},
   "outputs": [
    {
     "data": {
      "text/plain": [
       "<generator object square at 0x7f0da4e9f220>"
      ]
     },
     "execution_count": 22,
     "metadata": {},
     "output_type": "execute_result"
    }
   ],
   "source": [
    "square(5)"
   ]
  },
  {
   "cell_type": "code",
   "execution_count": 23,
   "id": "2c2cf5af",
   "metadata": {},
   "outputs": [
    {
     "name": "stdout",
     "output_type": "stream",
     "text": [
      "0\n",
      "1\n",
      "2\n"
     ]
    }
   ],
   "source": [
    "for i in range(3):\n",
    "    print(i)"
   ]
  },
  {
   "cell_type": "code",
   "execution_count": 24,
   "id": "0263efb7",
   "metadata": {},
   "outputs": [
    {
     "data": {
      "text/plain": [
       "<generator object square at 0x7f0da4e9fa00>"
      ]
     },
     "execution_count": 24,
     "metadata": {},
     "output_type": "execute_result"
    }
   ],
   "source": [
    "a= square(3)\n",
    "a"
   ]
  },
  {
   "cell_type": "code",
   "execution_count": 25,
   "id": "15571c22",
   "metadata": {},
   "outputs": [
    {
     "data": {
      "text/plain": [
       "0"
      ]
     },
     "execution_count": 25,
     "metadata": {},
     "output_type": "execute_result"
    }
   ],
   "source": [
    "next(a)"
   ]
  },
  {
   "cell_type": "code",
   "execution_count": 39,
   "id": "70b3a344",
   "metadata": {},
   "outputs": [],
   "source": [
    "def my_generator():\n",
    "    yield 1\n",
    "    yield 2\n",
    "    yield 3"
   ]
  },
  {
   "cell_type": "code",
   "execution_count": 40,
   "id": "8f2dbda9",
   "metadata": {},
   "outputs": [
    {
     "data": {
      "text/plain": [
       "<generator object my_generator at 0x7f0da4d04660>"
      ]
     },
     "execution_count": 40,
     "metadata": {},
     "output_type": "execute_result"
    }
   ],
   "source": [
    "gen = my_generator()\n",
    "gen"
   ]
  },
  {
   "cell_type": "code",
   "execution_count": 35,
   "id": "eca057c7",
   "metadata": {},
   "outputs": [
    {
     "data": {
      "text/plain": [
       "1"
      ]
     },
     "execution_count": 35,
     "metadata": {},
     "output_type": "execute_result"
    }
   ],
   "source": [
    "next(gen)"
   ]
  },
  {
   "cell_type": "code",
   "execution_count": 41,
   "id": "9a0bd729",
   "metadata": {},
   "outputs": [
    {
     "name": "stdout",
     "output_type": "stream",
     "text": [
      "1\n",
      "2\n",
      "3\n"
     ]
    }
   ],
   "source": [
    "for val in gen:\n",
    "    print(val)"
   ]
  },
  {
   "cell_type": "markdown",
   "id": "b33257d8",
   "metadata": {},
   "source": [
    "#### Practical Example: Reading Large Files\n",
    "\n",
    "Generators are particularly useful for working with large datasets or streams of data, as they allow you to iterate through data without loading everything into memory at once."
   ]
  },
  {
   "cell_type": "code",
   "execution_count": 42,
   "id": "137bc2c5",
   "metadata": {},
   "outputs": [],
   "source": [
    "## Reading Large Files\n",
    "\n",
    "def read_large_file(file_path):\n",
    "    with open(file_path, 'r') as file:\n",
    "        for line in file:\n",
    "            yield line"
   ]
  },
  {
   "cell_type": "code",
   "execution_count": 44,
   "id": "d85583c5",
   "metadata": {},
   "outputs": [
    {
     "name": "stdout",
     "output_type": "stream",
     "text": [
      "## Nightbird (2023) - Part of Transcript\n",
      "\n",
      "This is good news for all of us\n",
      "\n",
      "because the international relations\n",
      "\n",
      "between Australia and the Philippines\n",
      "\n",
      "shall be further strengthened.\n",
      "\n",
      "We learned that an archeological artifact\n",
      "\n",
      "found in Australia shall be returned to us.\n",
      "\n",
      "- Hey, bestie.\n",
      "\n",
      "- Hey besties, what's up?\n",
      "\n",
      "- You're finally here.\n",
      "\n",
      "- Bestie, let's meet up later?\n",
      "\n",
      "Where?\n",
      "\n",
      "It is a traditional headhunter ax,\n",
      "\n",
      "or an ax used in hunting...\n",
      "\n",
      "- The usual place.\n",
      "\n",
      "- What time?\n",
      "\n",
      "this ax dates back\n",
      "\n",
      "its creation to the 1900's.\n",
      "\n",
      "It was stolen from the Philippines\n",
      "\n",
      "and sold illegally.\n",
      "\n",
      "A few years later...\n",
      "\n",
      "After end of shift. 4:00 p.m.\n"
     ]
    }
   ],
   "source": [
    "file_path = 'large_file.txt'\n",
    "\n",
    "for line in read_large_file(file_path):\n",
    "    print(line.strip())"
   ]
  }
 ],
 "metadata": {
  "kernelspec": {
   "display_name": "ML",
   "language": "python",
   "name": "python3"
  },
  "language_info": {
   "codemirror_mode": {
    "name": "ipython",
    "version": 3
   },
   "file_extension": ".py",
   "mimetype": "text/x-python",
   "name": "python",
   "nbconvert_exporter": "python",
   "pygments_lexer": "ipython3",
   "version": "3.10.13"
  }
 },
 "nbformat": 4,
 "nbformat_minor": 5
}
