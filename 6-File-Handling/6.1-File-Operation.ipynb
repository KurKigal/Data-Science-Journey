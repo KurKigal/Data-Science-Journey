{
 "cells": [
  {
   "cell_type": "code",
   "execution_count": 10,
   "id": "4e979446",
   "metadata": {},
   "outputs": [
    {
     "name": "stdout",
     "output_type": "stream",
     "text": [
      "Hello How are you\n",
      "I am fine\n",
      "Welcome to the soul society\n"
     ]
    }
   ],
   "source": [
    "## Read a Whole File \n",
    "\n",
    "with open('example.txt', 'r') as file:\n",
    "    content = file.read()\n",
    "    print(content)"
   ]
  },
  {
   "cell_type": "code",
   "execution_count": 11,
   "id": "d5dab5ed",
   "metadata": {},
   "outputs": [
    {
     "name": "stdout",
     "output_type": "stream",
     "text": [
      "Hello How are you\n",
      "I am fine\n",
      "Welcome to the soul society\n"
     ]
    }
   ],
   "source": [
    "## Read a File Line by Line\n",
    "with open('example.txt', 'r') as file:\n",
    "    for line in file:\n",
    "        print(line.strip())  # Using strip() to remove trailing newline characters"
   ]
  },
  {
   "cell_type": "code",
   "execution_count": 12,
   "id": "e2550f95",
   "metadata": {},
   "outputs": [],
   "source": [
    "## Writing a file (Overwriting)\n",
    "\n",
    "with open('example.txt', 'w') as file:\n",
    "    file.write(\"This is a new line.\\n\")\n",
    "    file.write(\"This is another line.\\n\")"
   ]
  },
  {
   "cell_type": "code",
   "execution_count": 13,
   "id": "bdeb3660",
   "metadata": {},
   "outputs": [],
   "source": [
    "## Write a file (Without Overwriting)\n",
    "with open('example.txt', 'a') as file:\n",
    "    file.write(\"Appending a new line.\\n\")\n",
    "    file.write(\"Appending another line.\\n\")"
   ]
  },
  {
   "cell_type": "code",
   "execution_count": 14,
   "id": "4cd325ab",
   "metadata": {},
   "outputs": [],
   "source": [
    "## Writing a list of lines to a file\n",
    "\n",
    "lines = [\"First line.\\n\", \"Second line.\\n\", \"Third line.\\n\"]\n",
    "with open('example.txt', 'a') as file:\n",
    "    file.writelines(lines)"
   ]
  },
  {
   "cell_type": "code",
   "execution_count": 15,
   "id": "26b308f8",
   "metadata": {},
   "outputs": [],
   "source": [
    "### Binary Files\n",
    "\n",
    "## Writing to a binary file\n",
    "data = b'\\x00\\x01\\x02\\x03\\x04\\x05'\n",
    "with open('example.bin', 'wb') as file:\n",
    "    file.write(data)"
   ]
  },
  {
   "cell_type": "code",
   "execution_count": 16,
   "id": "68764efb",
   "metadata": {},
   "outputs": [
    {
     "name": "stdout",
     "output_type": "stream",
     "text": [
      "b'\\x00\\x01\\x02\\x03\\x04\\x05'\n"
     ]
    }
   ],
   "source": [
    "## Reading a binary file\n",
    "with open('example.bin', 'rb') as file:\n",
    "    binary_content = file.read()\n",
    "    print(binary_content)  # Output will be in bytes"
   ]
  },
  {
   "cell_type": "code",
   "execution_count": 17,
   "id": "ef0fa134",
   "metadata": {},
   "outputs": [],
   "source": [
    "## Read the content from source text file and write to a destination text file\n",
    "with open('example.txt', 'r') as source_file:\n",
    "    content = source_file.read()\n",
    "with open('destination.txt', 'w') as dest_file:\n",
    "    dest_file.write(content)"
   ]
  },
  {
   "cell_type": "code",
   "execution_count": 18,
   "id": "95a8000e",
   "metadata": {},
   "outputs": [
    {
     "name": "stdout",
     "output_type": "stream",
     "text": [
      "Lines: 7, Words: 22, Characters: 125\n"
     ]
    }
   ],
   "source": [
    "## Read a text file and count the number of lines, word, and characters\n",
    "def count_text_file(file_path):\n",
    "    with open(file_path, 'r') as file:\n",
    "        lines = file.readlines()\n",
    "        num_lines = len(lines)\n",
    "        num_words = sum(len(line.split()) for line in lines)\n",
    "        num_chars = sum(len(line) for line in lines)\n",
    "    return num_lines, num_words, num_chars\n",
    "\n",
    "file_path = 'example.txt'\n",
    "num_lines, num_words, num_chars = count_text_file(file_path)\n",
    "print(f\"Lines: {num_lines}, Words: {num_words}, Characters: {num_chars}\")"
   ]
  },
  {
   "cell_type": "code",
   "execution_count": 19,
   "id": "422610c0",
   "metadata": {},
   "outputs": [
    {
     "name": "stdout",
     "output_type": "stream",
     "text": [
      "\n"
     ]
    }
   ],
   "source": [
    "## Writing and then reading a file\n",
    "with open('example.txt', 'w+') as file:\n",
    "    file.write(\"This is a test line.\\n\")\n",
    "    file.write(\"This is another test line.\\n\")\n",
    "\n",
    "    ## Move the file cursor to the beginning of the file\n",
    "    file.seek(0)\n",
    "    content = file.read()\n",
    "\n",
    "    ## Read the content of the file\n",
    "    content = file.read()\n",
    "    print(content)\n"
   ]
  }
 ],
 "metadata": {
  "kernelspec": {
   "display_name": "ML",
   "language": "python",
   "name": "python3"
  },
  "language_info": {
   "codemirror_mode": {
    "name": "ipython",
    "version": 3
   },
   "file_extension": ".py",
   "mimetype": "text/x-python",
   "name": "python",
   "nbconvert_exporter": "python",
   "pygments_lexer": "ipython3",
   "version": "3.10.13"
  }
 },
 "nbformat": 4,
 "nbformat_minor": 5
}
