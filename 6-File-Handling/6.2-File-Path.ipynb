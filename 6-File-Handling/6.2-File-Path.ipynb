{
 "cells": [
  {
   "cell_type": "code",
   "execution_count": null,
   "id": "a3d964e1",
   "metadata": {},
   "outputs": [],
   "source": [
    "# This script prints the current working directory.\n",
    "import os \n",
    "\n",
    "cwd=os.getcwd()\n",
    "print(\"Current working directory:\", cwd)"
   ]
  },
  {
   "cell_type": "code",
   "execution_count": null,
   "id": "ddf54211",
   "metadata": {},
   "outputs": [
    {
     "name": "stdout",
     "output_type": "stream",
     "text": [
      "New directory created: package\n"
     ]
    }
   ],
   "source": [
    "# Create a new directory\n",
    "new_directory = 'package'\n",
    "os.mkdir(new_directory)\n",
    "print(\"New directory created:\", new_directory)"
   ]
  },
  {
   "cell_type": "code",
   "execution_count": 3,
   "id": "c37704d3",
   "metadata": {},
   "outputs": [
    {
     "name": "stdout",
     "output_type": "stream",
     "text": [
      "Items in current directory: ['example.txt', 'example.bin', '6.1-File-Operation.ipynb', 'package', '6.2-File-Path.ipynb', 'filehandlingquestions', 'destination.txt']\n"
     ]
    }
   ],
   "source": [
    "## Listing Files and Directories\n",
    "items= os.listdir('.')\n",
    "print(\"Items in current directory:\", items)"
   ]
  },
  {
   "cell_type": "code",
   "execution_count": 4,
   "id": "f7b5af5f",
   "metadata": {},
   "outputs": [
    {
     "name": "stdout",
     "output_type": "stream",
     "text": [
      "Full path: folder/file.txt\n"
     ]
    }
   ],
   "source": [
    "## Joining Paths\n",
    "\n",
    "dir_name = 'folder'\n",
    "file_name = 'file.txt'\n",
    "full_path = os.path.join(dir_name, file_name)\n",
    "print(\"Full path:\", full_path)"
   ]
  },
  {
   "cell_type": "code",
   "execution_count": null,
   "id": "bd4fbc6c",
   "metadata": {},
   "outputs": [],
   "source": [
    "# Joining Paths with Absolute Path\n",
    "dir_name = 'folder'\n",
    "file_name = 'file.txt'\n",
    "full_path = os.path.join(os.getcwd(),dir_name, file_name)\n",
    "print(\"Full path:\", full_path)"
   ]
  },
  {
   "cell_type": "code",
   "execution_count": null,
   "id": "8eda2874",
   "metadata": {},
   "outputs": [
    {
     "name": "stdout",
     "output_type": "stream",
     "text": [
      "Path 'example1.txt' does not exist.\n"
     ]
    }
   ],
   "source": [
    "## Checking if a Path Exists\n",
    "path = 'example1.txt'\n",
    "if os.path.exists(path):\n",
    "    print(f\"Path '{path}' exists.\")\n",
    "else:\n",
    "    print(f\"Path '{path}' does not exist.\")"
   ]
  },
  {
   "cell_type": "code",
   "execution_count": 8,
   "id": "988d5ff7",
   "metadata": {},
   "outputs": [
    {
     "name": "stdout",
     "output_type": "stream",
     "text": [
      "'example.txt' is a file.\n"
     ]
    }
   ],
   "source": [
    "## Checking if a Path is a File or Directory\n",
    "import os \n",
    "\n",
    "path = 'example.txt'\n",
    "if os.path.isfile(path):\n",
    "    print(f\"'{path}' is a file.\")\n",
    "elif os.path.isdir(path):\n",
    "    print(f\"'{path}' is a directory.\")\n",
    "else:\n",
    "    print(f\"'{path}' is neither a file nor a directory.\")"
   ]
  },
  {
   "cell_type": "code",
   "execution_count": null,
   "id": "650227f7",
   "metadata": {},
   "outputs": [],
   "source": [
    "## Getting the absolute Path\n",
    "relative_path = 'example.txt'\n",
    "absolute_path = os.path.abspath(relative_path)\n",
    "print(f\"Absolute path of '{relative_path}': {absolute_path}\")"
   ]
  }
 ],
 "metadata": {
  "kernelspec": {
   "display_name": "ML",
   "language": "python",
   "name": "python3"
  },
  "language_info": {
   "codemirror_mode": {
    "name": "ipython",
    "version": 3
   },
   "file_extension": ".py",
   "mimetype": "text/x-python",
   "name": "python",
   "nbconvert_exporter": "python",
   "pygments_lexer": "ipython3",
   "version": "3.10.13"
  }
 },
 "nbformat": 4,
 "nbformat_minor": 5
}
