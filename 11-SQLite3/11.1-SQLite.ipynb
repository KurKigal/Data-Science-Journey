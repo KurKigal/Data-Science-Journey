{
 "cells": [
  {
   "cell_type": "markdown",
   "id": "576e6d49",
   "metadata": {},
   "source": [
    "## SQL and SQLite\n",
    "SQL (Structured Query Language) is a standard programming language specifically for managing and manipulating relational databases. It is used for tasks such as querying data, updating records, and creating and modifying database structures.\n",
    "SQLite is a C-language library that implements a small, fast, self-contained, high-reliability, full-featured, SQL database engine. It is the most used database engine in the world, and it is built into all mobile phones and most computers."
   ]
  },
  {
   "cell_type": "code",
   "execution_count": 1,
   "id": "69700f20",
   "metadata": {},
   "outputs": [],
   "source": [
    "import sqlite3"
   ]
  },
  {
   "cell_type": "code",
   "execution_count": 2,
   "id": "9e09ceae",
   "metadata": {},
   "outputs": [
    {
     "data": {
      "text/plain": [
       "<sqlite3.Connection at 0x1fc61031a40>"
      ]
     },
     "execution_count": 2,
     "metadata": {},
     "output_type": "execute_result"
    }
   ],
   "source": [
    "## Connecting to SQLite Database\n",
    "conn = sqlite3.connect('example.db')\n",
    "conn"
   ]
  },
  {
   "cell_type": "code",
   "execution_count": 3,
   "id": "b86b752e",
   "metadata": {},
   "outputs": [],
   "source": [
    "## Cursor is used to interact with the database\n",
    "cursor = conn.cursor()"
   ]
  },
  {
   "cell_type": "code",
   "execution_count": 4,
   "id": "585fe9a9",
   "metadata": {},
   "outputs": [],
   "source": [
    "## Create a table\n",
    "cursor.execute('''\n",
    "CREATE TABLE IF NOT EXISTS users (\n",
    "    id INTEGER PRIMARY KEY, \n",
    "    name TEXT,\n",
    "    age INTEGER\n",
    ")\n",
    "''')\n",
    "## Primary Key is a unique identifier for a record in a table\n",
    "\n",
    "## Commit the changes\n",
    "conn.commit()"
   ]
  },
  {
   "cell_type": "code",
   "execution_count": 5,
   "id": "9fd970ec",
   "metadata": {},
   "outputs": [
    {
     "data": {
      "text/plain": [
       "<sqlite3.Cursor at 0x1fc6128f140>"
      ]
     },
     "execution_count": 5,
     "metadata": {},
     "output_type": "execute_result"
    }
   ],
   "source": [
    "cursor.execute('''\n",
    "SELECT * FROM users\n",
    "''')"
   ]
  },
  {
   "cell_type": "code",
   "execution_count": 6,
   "id": "df59b10a",
   "metadata": {},
   "outputs": [],
   "source": [
    "## Inserting Data into the Table\n",
    "cursor.execute('''\n",
    "INSERT INTO users (name, age) VALUES (?, ?)\n",
    "''', (\"Alice\", 30))\n",
    "\n",
    "cursor.execute('''\n",
    "INSERT INTO users (name, age) VALUES (?, ?)\n",
    "''', (\"Bob\", 25))\n",
    "\n",
    "## (?,? ?) is a placeholder for parameterized queries. It helps prevent SQL injection attacks.\n",
    "\n",
    "conn.commit()"
   ]
  },
  {
   "cell_type": "code",
   "execution_count": 7,
   "id": "05178c9c",
   "metadata": {},
   "outputs": [
    {
     "data": {
      "text/plain": [
       "[(1, 'Alice', 30), (2, 'Bob', 25)]"
      ]
     },
     "execution_count": 7,
     "metadata": {},
     "output_type": "execute_result"
    }
   ],
   "source": [
    "## Querying Data from the Table\n",
    "cursor.execute('''\n",
    "SELECT * FROM users\n",
    "''')\n",
    "rows = cursor.fetchall()\n",
    "rows"
   ]
  },
  {
   "cell_type": "code",
   "execution_count": 8,
   "id": "148e536d",
   "metadata": {},
   "outputs": [],
   "source": [
    "## Update Data in the Table\n",
    "cursor.execute('''\n",
    "UPDATE users SET age = ? WHERE name = ?\n",
    "''', (31, \"Alice\"))\n",
    "\n",
    "## ? used for parameterized queries to prevent SQL injection attacks.\n",
    "\n",
    "conn.commit()"
   ]
  },
  {
   "cell_type": "code",
   "execution_count": 9,
   "id": "722acb7b",
   "metadata": {},
   "outputs": [
    {
     "data": {
      "text/plain": [
       "[(1, 'Alice', 31), (2, 'Bob', 25)]"
      ]
     },
     "execution_count": 9,
     "metadata": {},
     "output_type": "execute_result"
    }
   ],
   "source": [
    "## Querying Data from the Table\n",
    "cursor.execute('''\n",
    "SELECT * FROM users\n",
    "''')\n",
    "rows = cursor.fetchall()\n",
    "rows"
   ]
  },
  {
   "cell_type": "code",
   "execution_count": 10,
   "id": "ec4ca6f9",
   "metadata": {},
   "outputs": [],
   "source": [
    "## Delete Data from the Table\n",
    "cursor.execute('''\n",
    "DELETE FROM users WHERE name = ?\n",
    "''', (\"Bob\",))\n",
    "\n",
    "conn.commit()\n"
   ]
  },
  {
   "cell_type": "code",
   "execution_count": 11,
   "id": "a86ffe0a",
   "metadata": {},
   "outputs": [
    {
     "data": {
      "text/plain": [
       "[(1, 'Alice', 31)]"
      ]
     },
     "execution_count": 11,
     "metadata": {},
     "output_type": "execute_result"
    }
   ],
   "source": [
    "## Querying Data from the Table\n",
    "cursor.execute('''\n",
    "SELECT * FROM users\n",
    "''')\n",
    "rows = cursor.fetchall()\n",
    "rows"
   ]
  },
  {
   "cell_type": "code",
   "execution_count": 12,
   "id": "9e2e13e0",
   "metadata": {},
   "outputs": [],
   "source": [
    "## Insert multiple rows into the Table\n",
    "cursor.executemany('''\n",
    "INSERT INTO users (name, age) VALUES (?, ?)\n",
    "''', [\n",
    "    (\"Charlie\", 35),\n",
    "    (\"David\", 40)\n",
    "])\n",
    "\n",
    "## Commit the changes\n",
    "conn.commit()"
   ]
  },
  {
   "cell_type": "code",
   "execution_count": 13,
   "id": "6941c29b",
   "metadata": {},
   "outputs": [
    {
     "data": {
      "text/plain": [
       "[(1, 'Alice', 31), (2, 'Charlie', 35), (3, 'David', 40)]"
      ]
     },
     "execution_count": 13,
     "metadata": {},
     "output_type": "execute_result"
    }
   ],
   "source": [
    "## Querying Data from the Table\n",
    "cursor.execute('''\n",
    "SELECT * FROM users\n",
    "''')\n",
    "rows = cursor.fetchall()\n",
    "rows"
   ]
  },
  {
   "cell_type": "code",
   "execution_count": 14,
   "id": "e7a1401b",
   "metadata": {},
   "outputs": [],
   "source": [
    "## Closing the Connection\n",
    "conn.close()"
   ]
  }
 ],
 "metadata": {
  "kernelspec": {
   "display_name": "ml_env",
   "language": "python",
   "name": "python3"
  },
  "language_info": {
   "codemirror_mode": {
    "name": "ipython",
    "version": 3
   },
   "file_extension": ".py",
   "mimetype": "text/x-python",
   "name": "python",
   "nbconvert_exporter": "python",
   "pygments_lexer": "ipython3",
   "version": "3.10.18"
  }
 },
 "nbformat": 4,
 "nbformat_minor": 5
}
