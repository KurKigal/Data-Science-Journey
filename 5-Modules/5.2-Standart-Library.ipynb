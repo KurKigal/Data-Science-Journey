{
 "cells": [
  {
   "cell_type": "code",
   "execution_count": 1,
   "id": "abd23dfd",
   "metadata": {},
   "outputs": [
    {
     "name": "stdout",
     "output_type": "stream",
     "text": [
      "array('i', [1, 2, 3, 4, 5])\n"
     ]
    }
   ],
   "source": [
    "import array\n",
    "\n",
    "arr = array.array('i', [1, 2, 3, 4, 5])\n",
    "print(arr)"
   ]
  },
  {
   "cell_type": "code",
   "execution_count": 2,
   "id": "6011d9d1",
   "metadata": {},
   "outputs": [
    {
     "name": "stdout",
     "output_type": "stream",
     "text": [
      "4.0\n",
      "3.141592653589793\n"
     ]
    }
   ],
   "source": [
    "import math\n",
    "print(math.sqrt(16))\n",
    "print(math.pi)"
   ]
  },
  {
   "cell_type": "code",
   "execution_count": 5,
   "id": "1ba0b6ea",
   "metadata": {},
   "outputs": [
    {
     "name": "stdout",
     "output_type": "stream",
     "text": [
      "10\n",
      "cherry\n"
     ]
    }
   ],
   "source": [
    "## random\n",
    "\n",
    "import random\n",
    "print(random.randint(1, 10))  # Random integer between 1 and 10\n",
    "print(random.choice(['apple', 'banana', 'cherry']))  # Randomly select an element from the array"
   ]
  },
  {
   "cell_type": "code",
   "execution_count": null,
   "id": "e5e59cae",
   "metadata": {},
   "outputs": [],
   "source": [
    "### File and Directory Access\n",
    "\n",
    "import os\n",
    "print(os.getcwd())  # Get current working directory\n",
    "print(os.listdir('.'))  # List files in the current directory"
   ]
  },
  {
   "cell_type": "code",
   "execution_count": 7,
   "id": "ab18150e",
   "metadata": {},
   "outputs": [],
   "source": [
    "os.mkdir('test_dir')  # Create a new directory"
   ]
  },
  {
   "cell_type": "code",
   "execution_count": 8,
   "id": "59a13a0f",
   "metadata": {},
   "outputs": [
    {
     "data": {
      "text/plain": [
       "'destination.txt'"
      ]
     },
     "execution_count": 8,
     "metadata": {},
     "output_type": "execute_result"
    }
   ],
   "source": [
    "## High level operations on files and collection of files\n",
    "\n",
    "import shutil\n",
    "shutil.copyfile('source.txt', 'destination.txt')  # Copy a file"
   ]
  },
  {
   "cell_type": "code",
   "execution_count": 9,
   "id": "5234aee5",
   "metadata": {},
   "outputs": [
    {
     "name": "stdout",
     "output_type": "stream",
     "text": [
      "{\"name\": \"Emirhan\", \"age\": 21}\n",
      "<class 'str'>\n",
      "{'name': 'Emirhan', 'age': 21}\n",
      "<class 'dict'>\n"
     ]
    }
   ],
   "source": [
    "## Data Serialization\n",
    "\n",
    "import json\n",
    "data = {'name': 'Emirhan', 'age': 21}\n",
    "\n",
    "json_string = json.dumps(data)  # Serialize to JSON string\n",
    "print(json_string)\n",
    "print(type(json_string))\n",
    "\n",
    "parsed_data = json.loads(json_string)  # Deserialize back to Python object\n",
    "print(parsed_data)\n",
    "print(type(parsed_data))"
   ]
  },
  {
   "cell_type": "code",
   "execution_count": 10,
   "id": "86ddc4d3",
   "metadata": {},
   "outputs": [
    {
     "name": "stdout",
     "output_type": "stream",
     "text": [
      "['Name', 'Age']\n",
      "['Emirhan', '21']\n",
      "['Alice', '30']\n"
     ]
    }
   ],
   "source": [
    "## csv\n",
    "\n",
    "import csv\n",
    "with open('data.csv', mode='w', newline='') as file:\n",
    "    writer = csv.writer(file)\n",
    "    writer.writerow(['Name', 'Age'])\n",
    "    writer.writerow(['Emirhan', 21])\n",
    "    writer.writerow(['Alice', 30])\n",
    "\n",
    "with open('data.csv', mode='r') as file:\n",
    "    reader = csv.reader(file)\n",
    "    for row in reader:\n",
    "        print(row)  # Print each row in the CSV file"
   ]
  },
  {
   "cell_type": "code",
   "execution_count": 11,
   "id": "8ecdda19",
   "metadata": {},
   "outputs": [
    {
     "name": "stdout",
     "output_type": "stream",
     "text": [
      "2025-06-12 02:18:09.042181\n",
      "2025-06-11 02:18:09.042181\n"
     ]
    }
   ],
   "source": [
    "## date \n",
    "\n",
    "from datetime import datetime, timedelta\n",
    "\n",
    "now = datetime.now()\n",
    "print(now)  # Current date and time\n",
    "\n",
    "yesterday = now - timedelta(days=1)\n",
    "print(yesterday)  # Yesterday's date and time"
   ]
  },
  {
   "cell_type": "code",
   "execution_count": 12,
   "id": "699c794f",
   "metadata": {},
   "outputs": [
    {
     "name": "stdout",
     "output_type": "stream",
     "text": [
      "1749683921.6439078\n",
      "1749683923.6459522\n"
     ]
    }
   ],
   "source": [
    "## time \n",
    "\n",
    "import time\n",
    "print(time.time())  # Current time in seconds since the epoch\n",
    "time.sleep(2)  # Sleep for 1 second\n",
    "print(time.time())  # Current time in a human-readable format"
   ]
  },
  {
   "cell_type": "code",
   "execution_count": 13,
   "id": "b082faea",
   "metadata": {},
   "outputs": [
    {
     "name": "stdout",
     "output_type": "stream",
     "text": [
      "123\n"
     ]
    }
   ],
   "source": [
    "## Regular Expresions\n",
    "\n",
    "import re\n",
    "\n",
    "pattern = r'\\d+'  # Match one or more digits\n",
    "text = 'There are 123 apples and 456 oranges.'\n",
    "match = re.search(pattern, text)\n",
    "print(match.group())  # Print the first match found"
   ]
  }
 ],
 "metadata": {
  "kernelspec": {
   "display_name": "ML",
   "language": "python",
   "name": "python3"
  },
  "language_info": {
   "codemirror_mode": {
    "name": "ipython",
    "version": 3
   },
   "file_extension": ".py",
   "mimetype": "text/x-python",
   "name": "python",
   "nbconvert_exporter": "python",
   "pygments_lexer": "ipython3",
   "version": "3.10.13"
  }
 },
 "nbformat": 4,
 "nbformat_minor": 5
}
